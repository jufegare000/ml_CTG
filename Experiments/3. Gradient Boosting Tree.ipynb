{
 "cells": [
  {
   "cell_type": "code",
   "execution_count": 14,
   "metadata": {},
   "outputs": [
    {
     "name": "stdout",
     "output_type": "stream",
     "text": [
      "The autoreload extension is already loaded. To reload it, use:\n",
      "  %reload_ext autoreload\n"
     ]
    }
   ],
   "source": [
    "%load_ext autoreload\n",
    "%autoreload 2\n",
    "\n",
    "import pandas as pd\n",
    "import numpy as np\n",
    "from sklearn.model_selection import train_test_split\n",
    "from sklearn.model_selection import StratifiedKFold\n",
    "from sklearn.ensemble import GradientBoostingClassifier\n",
    "from imblearn.metrics import geometric_mean_score\n",
    "from sklearn.metrics import roc_curve, roc_auc_score\n",
    "from sklearn.metrics import plot_confusion_matrix\n",
    "from sklearn.metrics import f1_score\n",
    "import sys; sys.path.append('../Utils')\n",
    "from utils import Utils"
   ]
  },
  {
   "cell_type": "code",
   "execution_count": 15,
   "metadata": {},
   "outputs": [],
   "source": [
    "ut = Utils()\n",
    "X, Y = ut.get_matrixes()"
   ]
  },
  {
   "cell_type": "code",
   "execution_count": 20,
   "metadata": {},
   "outputs": [],
   "source": [
    "def experimentar_gbt(num_trees, X, Y):\n",
    "    \"\"\"funcion que realiza experimentos de arboles de decision\n",
    "    num_trees: list[int] lista con el número de arboles usado para el RF\n",
    "    X: matriz con las caractersiticas\n",
    "    Y: matriz de numpy con etiquetas\n",
    "    retorna: dataframe con:\n",
    "        - numero de arboles usados\n",
    "        - eficiencia de entrenamiento\n",
    "        - desviacion de estandar eficiencia de entrenamiento\n",
    "        - eficiencia de prueba\n",
    "        - desviacion estandar eficiencia de prueba\n",
    "    \"\"\"\n",
    "    folds = 4\n",
    "    skf = StratifiedKFold(n_splits=folds)\n",
    "    resultados = pd.DataFrame()\n",
    "    idx = 0\n",
    "    for trees in num_trees:\n",
    "        ## para almacenar los errores intermedios\n",
    "        EficienciaTrain = []\n",
    "        EficienciaVal = []\n",
    "        f1 = [] \n",
    "        gmean =[]\n",
    "        \n",
    "        for train, test in skf.split(X, Y):\n",
    "            Xtrain, Ytrain, Xtest, Ytest = ut.get_training_test(X=X, Y=Y, train=train, test=test)\n",
    "            #Haga el llamado a la función para crear y entrenar el modelo usando los datos de entrenamiento\n",
    "            modelo= GradientBoostingClassifier(n_estimators=trees)\n",
    "            modelo.fit(Xtrain, Ytrain)\n",
    "            f1_score_current, gmean_current, eficiencia_train_current, eficiencia_test_current = ut.get_metrics(model=modelo, X_train=Xtrain, X_test=Xtest, y_train=Ytrain, Ytest=Ytest)\n",
    "            #Evaluamos las predicciones del modelo con los datos de test\n",
    "            EficienciaTrain.append(eficiencia_train_current)\n",
    "            EficienciaVal.append(eficiencia_test_current)\n",
    "            gmean.append(gmean_current)           \n",
    "            f1.append(f1_score_current)\n",
    "\n",
    "        resultados.loc[idx,'número de arboles'] = trees\n",
    "        resultados.loc[idx,'F1 Score'] = np.mean(f1)\n",
    "        resultados.loc[idx,'F1 Score IC'] = np.std(f1)\n",
    "        resultados.loc[idx,'GMEAN'] = np.mean(gmean)\n",
    "        resultados.loc[idx,'GMEAN IC'] = np.std(gmean)\n",
    "        resultados.loc[idx,'Eficiencia Train'] = np.mean(EficienciaTrain)\n",
    "        resultados.loc[idx,'Eficiencia Train IC'] = np.std(EficienciaTrain)\n",
    "        resultados.loc[idx,'eficiencia de prueba'] = np.mean(EficienciaVal)\n",
    "        resultados.loc[idx,'eficiencia prueba IC'] = np.std(EficienciaVal)\n",
    "        idx= idx +1\n",
    "        \n",
    "    return (resultados)"
   ]
  },
  {
   "cell_type": "code",
   "execution_count": 21,
   "metadata": {},
   "outputs": [
    {
     "data": {
      "text/html": [
       "<div>\n",
       "<style scoped>\n",
       "    .dataframe tbody tr th:only-of-type {\n",
       "        vertical-align: middle;\n",
       "    }\n",
       "\n",
       "    .dataframe tbody tr th {\n",
       "        vertical-align: top;\n",
       "    }\n",
       "\n",
       "    .dataframe thead th {\n",
       "        text-align: right;\n",
       "    }\n",
       "</style>\n",
       "<table border=\"1\" class=\"dataframe\">\n",
       "  <thead>\n",
       "    <tr style=\"text-align: right;\">\n",
       "      <th></th>\n",
       "      <th>número de arboles</th>\n",
       "      <th>F1 Score</th>\n",
       "      <th>F1 Score IC</th>\n",
       "      <th>GMEAN</th>\n",
       "      <th>GMEAN IC</th>\n",
       "      <th>Eficiencia Train</th>\n",
       "      <th>Eficiencia Train IC</th>\n",
       "      <th>eficiencia de prueba</th>\n",
       "      <th>eficiencia prueba IC</th>\n",
       "    </tr>\n",
       "  </thead>\n",
       "  <tbody>\n",
       "    <tr>\n",
       "      <th>0</th>\n",
       "      <td>5.0</td>\n",
       "      <td>0.880233</td>\n",
       "      <td>0.039418</td>\n",
       "      <td>0.910787</td>\n",
       "      <td>0.027486</td>\n",
       "      <td>0.922525</td>\n",
       "      <td>0.010486</td>\n",
       "      <td>0.881771</td>\n",
       "      <td>0.036201</td>\n",
       "    </tr>\n",
       "    <tr>\n",
       "      <th>1</th>\n",
       "      <td>10.0</td>\n",
       "      <td>0.897438</td>\n",
       "      <td>0.042359</td>\n",
       "      <td>0.924065</td>\n",
       "      <td>0.029244</td>\n",
       "      <td>0.935818</td>\n",
       "      <td>0.008242</td>\n",
       "      <td>0.899294</td>\n",
       "      <td>0.038573</td>\n",
       "    </tr>\n",
       "    <tr>\n",
       "      <th>2</th>\n",
       "      <td>20.0</td>\n",
       "      <td>0.910381</td>\n",
       "      <td>0.043970</td>\n",
       "      <td>0.934118</td>\n",
       "      <td>0.030305</td>\n",
       "      <td>0.956429</td>\n",
       "      <td>0.005820</td>\n",
       "      <td>0.912586</td>\n",
       "      <td>0.040010</td>\n",
       "    </tr>\n",
       "    <tr>\n",
       "      <th>3</th>\n",
       "      <td>50.0</td>\n",
       "      <td>0.921351</td>\n",
       "      <td>0.046191</td>\n",
       "      <td>0.942488</td>\n",
       "      <td>0.031911</td>\n",
       "      <td>0.977778</td>\n",
       "      <td>0.003919</td>\n",
       "      <td>0.923665</td>\n",
       "      <td>0.042190</td>\n",
       "    </tr>\n",
       "    <tr>\n",
       "      <th>4</th>\n",
       "      <td>100.0</td>\n",
       "      <td>0.925891</td>\n",
       "      <td>0.046385</td>\n",
       "      <td>0.945986</td>\n",
       "      <td>0.031914</td>\n",
       "      <td>0.992817</td>\n",
       "      <td>0.002968</td>\n",
       "      <td>0.928297</td>\n",
       "      <td>0.042208</td>\n",
       "    </tr>\n",
       "    <tr>\n",
       "      <th>5</th>\n",
       "      <td>150.0</td>\n",
       "      <td>0.929289</td>\n",
       "      <td>0.047058</td>\n",
       "      <td>0.948570</td>\n",
       "      <td>0.032372</td>\n",
       "      <td>0.997113</td>\n",
       "      <td>0.001547</td>\n",
       "      <td>0.931721</td>\n",
       "      <td>0.042828</td>\n",
       "    </tr>\n",
       "  </tbody>\n",
       "</table>\n",
       "</div>"
      ],
      "text/plain": [
       "   número de arboles  F1 Score  F1 Score IC     GMEAN  GMEAN IC  \\\n",
       "0                5.0  0.880233     0.039418  0.910787  0.027486   \n",
       "1               10.0  0.897438     0.042359  0.924065  0.029244   \n",
       "2               20.0  0.910381     0.043970  0.934118  0.030305   \n",
       "3               50.0  0.921351     0.046191  0.942488  0.031911   \n",
       "4              100.0  0.925891     0.046385  0.945986  0.031914   \n",
       "5              150.0  0.929289     0.047058  0.948570  0.032372   \n",
       "\n",
       "   Eficiencia Train  Eficiencia Train IC  eficiencia de prueba  \\\n",
       "0          0.922525             0.010486              0.881771   \n",
       "1          0.935818             0.008242              0.899294   \n",
       "2          0.956429             0.005820              0.912586   \n",
       "3          0.977778             0.003919              0.923665   \n",
       "4          0.992817             0.002968              0.928297   \n",
       "5          0.997113             0.001547              0.931721   \n",
       "\n",
       "   eficiencia prueba IC  \n",
       "0              0.036201  \n",
       "1              0.038573  \n",
       "2              0.040010  \n",
       "3              0.042190  \n",
       "4              0.042208  \n",
       "5              0.042828  "
      ]
     },
     "execution_count": 21,
     "metadata": {},
     "output_type": "execute_result"
    }
   ],
   "source": [
    "arboles = [5,10,20,50,100, 150]\n",
    "X, Y \n",
    "resultados_gbt = experimentar_gbt(arboles, X, Y)\n",
    "resultados_gbt"
   ]
  },
  {
   "cell_type": "code",
   "execution_count": 25,
   "metadata": {},
   "outputs": [
    {
     "data": {
      "text/plain": [
       "<sklearn.metrics._plot.confusion_matrix.ConfusionMatrixDisplay at 0x7f93d6916100>"
      ]
     },
     "execution_count": 25,
     "metadata": {},
     "output_type": "execute_result"
    },
    {
     "data": {
      "image/png": "[encoded data removed]",
      "text/plain": [
       "<Figure size 432x288 with 2 Axes>"
      ]
     },
     "metadata": {
      "needs_background": "light"
     },
     "output_type": "display_data"
    }
   ],
   "source": [
    "X_train, X_test, y_train, y_test = ut.get_train_test()\n",
    "clf = GradientBoostingClassifier(n_estimators=50)\n",
    "clf.fit(X, Y)\n",
    "plot_confusion_matrix(clf,X=X_test, y_true=y_test,normalize='true')"
   ]
  },
  {
   "cell_type": "code",
   "execution_count": null,
   "metadata": {},
   "outputs": [],
   "source": []
  }
 ],
 "metadata": {
  "kernelspec": {
   "display_name": "Python 3",
   "language": "python",
   "name": "python3"
  },
  "language_info": {
   "codemirror_mode": {
    "name": "ipython",
    "version": 3
   },
   "file_extension": ".py",
   "mimetype": "text/x-python",
   "name": "python",
   "nbconvert_exporter": "python",
   "pygments_lexer": "ipython3",
   "version": "3.8.5"
  }
 },
 "nbformat": 4,
 "nbformat_minor": 4
}
