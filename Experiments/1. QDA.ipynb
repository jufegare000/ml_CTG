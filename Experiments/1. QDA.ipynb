{
 "cells": [
  {
   "cell_type": "code",
   "execution_count": 128,
   "metadata": {},
   "outputs": [
    {
     "name": "stdout",
     "output_type": "stream",
     "text": [
      "The autoreload extension is already loaded. To reload it, use:\n",
      "  %reload_ext autoreload\n"
     ]
    }
   ],
   "source": [
    "%load_ext autoreload\n",
    "%autoreload 2\n",
    "\n",
    "import pandas as pd\n",
    "import numpy as np\n",
    "from sklearn.discriminant_analysis import QuadraticDiscriminantAnalysis\n",
    "from sklearn.datasets import make_moons, make_circles, make_classification\n",
    "from sklearn.model_selection import train_test_split\n",
    "from imblearn.metrics import geometric_mean_score\n",
    "from sklearn.metrics import f1_score\n",
    "from sklearn.metrics import plot_confusion_matrix\n",
    "from sklearn.metrics import roc_curve, roc_auc_score\n",
    "from sklearn.metrics import plot_confusion_matrix, plot_roc_curve\n",
    "from sklearn.metrics import auc\n",
    "import matplotlib.pyplot as plt\n",
    "from sklearn.preprocessing import label_binarize\n",
    "import sys; sys.path.append('../Utils')\n",
    "import utils from Utils"
   ]
  },
  {
   "cell_type": "code",
   "execution_count": 129,
   "metadata": {},
   "outputs": [],
   "source": [
    "df = pd.read_csv('../data/CTGsmt.csv', header=None)\n",
    "data = df.to_numpy()\n",
    "# Features matrix\n",
    "X = data[:,0:22]\n",
    "Y = data[:,23]\n",
    "X_train, X_test, y_train, y_test = train_test_split(X, Y, random_state=0, stratify=Y, shuffle=True, test_size = 0.25)"
   ]
  },
  {
   "cell_type": "code",
   "execution_count": 130,
   "metadata": {},
   "outputs": [
    {
     "ename": "TypeError",
     "evalue": "'module' object is not callable",
     "output_type": "error",
     "traceback": [
      "\u001b[0;31m---------------------------------------------------------------------------\u001b[0m",
      "\u001b[0;31mTypeError\u001b[0m                                 Traceback (most recent call last)",
      "\u001b[0;32m<ipython-input-130-291c3b579d6e>\u001b[0m in \u001b[0;36m<module>\u001b[0;34m\u001b[0m\n\u001b[0;32m----> 1\u001b[0;31m \u001b[0mut\u001b[0m \u001b[0;34m=\u001b[0m \u001b[0mUtils\u001b[0m\u001b[0;34m(\u001b[0m\u001b[0;34m)\u001b[0m\u001b[0;34m\u001b[0m\u001b[0;34m\u001b[0m\u001b[0m\n\u001b[0m",
      "\u001b[0;31mTypeError\u001b[0m: 'module' object is not callable"
     ]
    }
   ],
   "source": [
    "ut = Utils()"
   ]
  },
  {
   "cell_type": "code",
   "execution_count": 122,
   "metadata": {},
   "outputs": [
    {
     "data": {
      "text/plain": [
       "'xxxxx'"
      ]
     },
     "execution_count": 122,
     "metadata": {},
     "output_type": "execute_result"
    }
   ],
   "source": [
    "xx= ut.try_to_configure()\n",
    "xx"
   ]
  },
  {
   "cell_type": "code",
   "execution_count": 3,
   "metadata": {
    "scrolled": true
   },
   "outputs": [
    {
     "data": {
      "text/html": [
       "<div>\n",
       "<style scoped>\n",
       "    .dataframe tbody tr th:only-of-type {\n",
       "        vertical-align: middle;\n",
       "    }\n",
       "\n",
       "    .dataframe tbody tr th {\n",
       "        vertical-align: top;\n",
       "    }\n",
       "\n",
       "    .dataframe thead th {\n",
       "        text-align: right;\n",
       "    }\n",
       "</style>\n",
       "<table border=\"1\" class=\"dataframe\">\n",
       "  <thead>\n",
       "    <tr style=\"text-align: right;\">\n",
       "      <th></th>\n",
       "      <th>0</th>\n",
       "      <th>1</th>\n",
       "      <th>2</th>\n",
       "      <th>3</th>\n",
       "      <th>4</th>\n",
       "      <th>5</th>\n",
       "      <th>6</th>\n",
       "      <th>7</th>\n",
       "      <th>8</th>\n",
       "      <th>9</th>\n",
       "      <th>...</th>\n",
       "      <th>14</th>\n",
       "      <th>15</th>\n",
       "      <th>16</th>\n",
       "      <th>17</th>\n",
       "      <th>18</th>\n",
       "      <th>19</th>\n",
       "      <th>20</th>\n",
       "      <th>21</th>\n",
       "      <th>22</th>\n",
       "      <th>23</th>\n",
       "    </tr>\n",
       "  </thead>\n",
       "  <tbody>\n",
       "    <tr>\n",
       "      <th>0</th>\n",
       "      <td>0.259259</td>\n",
       "      <td>0.259259</td>\n",
       "      <td>0.000000</td>\n",
       "      <td>0.000000</td>\n",
       "      <td>0.000000</td>\n",
       "      <td>0.813333</td>\n",
       "      <td>0.044118</td>\n",
       "      <td>0.472527</td>\n",
       "      <td>0.047337</td>\n",
       "      <td>0.000000</td>\n",
       "      <td>...</td>\n",
       "      <td>0.110092</td>\n",
       "      <td>0.034483</td>\n",
       "      <td>0.111111</td>\n",
       "      <td>0.000000</td>\n",
       "      <td>0.472441</td>\n",
       "      <td>0.587156</td>\n",
       "      <td>0.403670</td>\n",
       "      <td>0.271375</td>\n",
       "      <td>1.0</td>\n",
       "      <td>2.0</td>\n",
       "    </tr>\n",
       "    <tr>\n",
       "      <th>1</th>\n",
       "      <td>0.481481</td>\n",
       "      <td>0.481481</td>\n",
       "      <td>0.153846</td>\n",
       "      <td>0.000000</td>\n",
       "      <td>0.173913</td>\n",
       "      <td>0.066667</td>\n",
       "      <td>0.279412</td>\n",
       "      <td>0.000000</td>\n",
       "      <td>0.205128</td>\n",
       "      <td>0.125000</td>\n",
       "      <td>...</td>\n",
       "      <td>0.165138</td>\n",
       "      <td>0.655172</td>\n",
       "      <td>0.333333</td>\n",
       "      <td>0.100000</td>\n",
       "      <td>0.637795</td>\n",
       "      <td>0.577982</td>\n",
       "      <td>0.577982</td>\n",
       "      <td>0.044610</td>\n",
       "      <td>0.5</td>\n",
       "      <td>1.0</td>\n",
       "    </tr>\n",
       "    <tr>\n",
       "      <th>2</th>\n",
       "      <td>0.500000</td>\n",
       "      <td>0.500000</td>\n",
       "      <td>0.076923</td>\n",
       "      <td>0.000000</td>\n",
       "      <td>0.217391</td>\n",
       "      <td>0.053333</td>\n",
       "      <td>0.279412</td>\n",
       "      <td>0.000000</td>\n",
       "      <td>0.264300</td>\n",
       "      <td>0.125000</td>\n",
       "      <td>...</td>\n",
       "      <td>0.165138</td>\n",
       "      <td>0.655172</td>\n",
       "      <td>0.277778</td>\n",
       "      <td>0.100000</td>\n",
       "      <td>0.637795</td>\n",
       "      <td>0.568807</td>\n",
       "      <td>0.559633</td>\n",
       "      <td>0.048327</td>\n",
       "      <td>0.5</td>\n",
       "      <td>1.0</td>\n",
       "    </tr>\n",
       "    <tr>\n",
       "      <th>3</th>\n",
       "      <td>0.518519</td>\n",
       "      <td>0.518519</td>\n",
       "      <td>0.076923</td>\n",
       "      <td>0.000000</td>\n",
       "      <td>0.260870</td>\n",
       "      <td>0.053333</td>\n",
       "      <td>0.323529</td>\n",
       "      <td>0.000000</td>\n",
       "      <td>0.453649</td>\n",
       "      <td>0.125000</td>\n",
       "      <td>...</td>\n",
       "      <td>0.027523</td>\n",
       "      <td>0.413793</td>\n",
       "      <td>0.611111</td>\n",
       "      <td>0.000000</td>\n",
       "      <td>0.606299</td>\n",
       "      <td>0.559633</td>\n",
       "      <td>0.550459</td>\n",
       "      <td>0.048327</td>\n",
       "      <td>1.0</td>\n",
       "      <td>1.0</td>\n",
       "    </tr>\n",
       "    <tr>\n",
       "      <th>4</th>\n",
       "      <td>0.481481</td>\n",
       "      <td>0.481481</td>\n",
       "      <td>0.153846</td>\n",
       "      <td>0.000000</td>\n",
       "      <td>0.217391</td>\n",
       "      <td>0.053333</td>\n",
       "      <td>0.323529</td>\n",
       "      <td>0.000000</td>\n",
       "      <td>0.392505</td>\n",
       "      <td>0.000000</td>\n",
       "      <td>...</td>\n",
       "      <td>0.027523</td>\n",
       "      <td>0.413793</td>\n",
       "      <td>0.500000</td>\n",
       "      <td>0.000000</td>\n",
       "      <td>0.606299</td>\n",
       "      <td>0.577982</td>\n",
       "      <td>0.559633</td>\n",
       "      <td>0.040892</td>\n",
       "      <td>1.0</td>\n",
       "      <td>1.0</td>\n",
       "    </tr>\n",
       "    <tr>\n",
       "      <th>...</th>\n",
       "      <td>...</td>\n",
       "      <td>...</td>\n",
       "      <td>...</td>\n",
       "      <td>...</td>\n",
       "      <td>...</td>\n",
       "      <td>...</td>\n",
       "      <td>...</td>\n",
       "      <td>...</td>\n",
       "      <td>...</td>\n",
       "      <td>...</td>\n",
       "      <td>...</td>\n",
       "      <td>...</td>\n",
       "      <td>...</td>\n",
       "      <td>...</td>\n",
       "      <td>...</td>\n",
       "      <td>...</td>\n",
       "      <td>...</td>\n",
       "      <td>...</td>\n",
       "      <td>...</td>\n",
       "      <td>...</td>\n",
       "      <td>...</td>\n",
       "    </tr>\n",
       "    <tr>\n",
       "      <th>4960</th>\n",
       "      <td>0.777778</td>\n",
       "      <td>0.777778</td>\n",
       "      <td>0.000000</td>\n",
       "      <td>0.002050</td>\n",
       "      <td>0.016753</td>\n",
       "      <td>0.767217</td>\n",
       "      <td>0.014706</td>\n",
       "      <td>0.819942</td>\n",
       "      <td>0.089517</td>\n",
       "      <td>0.000000</td>\n",
       "      <td>...</td>\n",
       "      <td>0.743877</td>\n",
       "      <td>0.263920</td>\n",
       "      <td>0.102446</td>\n",
       "      <td>0.000000</td>\n",
       "      <td>0.708661</td>\n",
       "      <td>0.693713</td>\n",
       "      <td>0.675364</td>\n",
       "      <td>0.000000</td>\n",
       "      <td>1.0</td>\n",
       "      <td>3.0</td>\n",
       "    </tr>\n",
       "    <tr>\n",
       "      <th>4961</th>\n",
       "      <td>0.518519</td>\n",
       "      <td>0.518519</td>\n",
       "      <td>0.000000</td>\n",
       "      <td>0.004269</td>\n",
       "      <td>0.000000</td>\n",
       "      <td>0.914561</td>\n",
       "      <td>0.000000</td>\n",
       "      <td>0.555522</td>\n",
       "      <td>0.099061</td>\n",
       "      <td>0.000000</td>\n",
       "      <td>...</td>\n",
       "      <td>0.722899</td>\n",
       "      <td>0.198276</td>\n",
       "      <td>0.111111</td>\n",
       "      <td>0.000000</td>\n",
       "      <td>0.590551</td>\n",
       "      <td>0.568807</td>\n",
       "      <td>0.541284</td>\n",
       "      <td>0.003717</td>\n",
       "      <td>0.5</td>\n",
       "      <td>3.0</td>\n",
       "    </tr>\n",
       "    <tr>\n",
       "      <th>4962</th>\n",
       "      <td>0.425926</td>\n",
       "      <td>0.425926</td>\n",
       "      <td>0.000000</td>\n",
       "      <td>0.001773</td>\n",
       "      <td>0.303076</td>\n",
       "      <td>0.719610</td>\n",
       "      <td>0.382353</td>\n",
       "      <td>0.000000</td>\n",
       "      <td>0.000000</td>\n",
       "      <td>0.380483</td>\n",
       "      <td>...</td>\n",
       "      <td>0.000000</td>\n",
       "      <td>0.191420</td>\n",
       "      <td>0.334958</td>\n",
       "      <td>0.005849</td>\n",
       "      <td>0.354331</td>\n",
       "      <td>0.110360</td>\n",
       "      <td>0.303289</td>\n",
       "      <td>0.041110</td>\n",
       "      <td>0.5</td>\n",
       "      <td>3.0</td>\n",
       "    </tr>\n",
       "    <tr>\n",
       "      <th>4963</th>\n",
       "      <td>0.500000</td>\n",
       "      <td>0.500000</td>\n",
       "      <td>0.000000</td>\n",
       "      <td>0.001597</td>\n",
       "      <td>0.178238</td>\n",
       "      <td>0.640000</td>\n",
       "      <td>0.388204</td>\n",
       "      <td>0.000000</td>\n",
       "      <td>0.143872</td>\n",
       "      <td>0.118783</td>\n",
       "      <td>...</td>\n",
       "      <td>0.091743</td>\n",
       "      <td>0.370690</td>\n",
       "      <td>0.283304</td>\n",
       "      <td>0.000000</td>\n",
       "      <td>0.309478</td>\n",
       "      <td>0.225708</td>\n",
       "      <td>0.270667</td>\n",
       "      <td>0.166177</td>\n",
       "      <td>0.5</td>\n",
       "      <td>3.0</td>\n",
       "    </tr>\n",
       "    <tr>\n",
       "      <th>4964</th>\n",
       "      <td>0.820466</td>\n",
       "      <td>0.820466</td>\n",
       "      <td>0.000000</td>\n",
       "      <td>0.001082</td>\n",
       "      <td>0.030211</td>\n",
       "      <td>0.920000</td>\n",
       "      <td>0.029412</td>\n",
       "      <td>0.223700</td>\n",
       "      <td>0.137030</td>\n",
       "      <td>0.000000</td>\n",
       "      <td>...</td>\n",
       "      <td>0.733945</td>\n",
       "      <td>0.421970</td>\n",
       "      <td>0.111111</td>\n",
       "      <td>0.000000</td>\n",
       "      <td>0.724409</td>\n",
       "      <td>0.712021</td>\n",
       "      <td>0.684498</td>\n",
       "      <td>0.003717</td>\n",
       "      <td>0.5</td>\n",
       "      <td>3.0</td>\n",
       "    </tr>\n",
       "  </tbody>\n",
       "</table>\n",
       "<p>4965 rows × 24 columns</p>\n",
       "</div>"
      ],
      "text/plain": [
       "            0         1         2         3         4         5         6   \\\n",
       "0     0.259259  0.259259  0.000000  0.000000  0.000000  0.813333  0.044118   \n",
       "1     0.481481  0.481481  0.153846  0.000000  0.173913  0.066667  0.279412   \n",
       "2     0.500000  0.500000  0.076923  0.000000  0.217391  0.053333  0.279412   \n",
       "3     0.518519  0.518519  0.076923  0.000000  0.260870  0.053333  0.323529   \n",
       "4     0.481481  0.481481  0.153846  0.000000  0.217391  0.053333  0.323529   \n",
       "...        ...       ...       ...       ...       ...       ...       ...   \n",
       "4960  0.777778  0.777778  0.000000  0.002050  0.016753  0.767217  0.014706   \n",
       "4961  0.518519  0.518519  0.000000  0.004269  0.000000  0.914561  0.000000   \n",
       "4962  0.425926  0.425926  0.000000  0.001773  0.303076  0.719610  0.382353   \n",
       "4963  0.500000  0.500000  0.000000  0.001597  0.178238  0.640000  0.388204   \n",
       "4964  0.820466  0.820466  0.000000  0.001082  0.030211  0.920000  0.029412   \n",
       "\n",
       "            7         8         9   ...        14        15        16  \\\n",
       "0     0.472527  0.047337  0.000000  ...  0.110092  0.034483  0.111111   \n",
       "1     0.000000  0.205128  0.125000  ...  0.165138  0.655172  0.333333   \n",
       "2     0.000000  0.264300  0.125000  ...  0.165138  0.655172  0.277778   \n",
       "3     0.000000  0.453649  0.125000  ...  0.027523  0.413793  0.611111   \n",
       "4     0.000000  0.392505  0.000000  ...  0.027523  0.413793  0.500000   \n",
       "...        ...       ...       ...  ...       ...       ...       ...   \n",
       "4960  0.819942  0.089517  0.000000  ...  0.743877  0.263920  0.102446   \n",
       "4961  0.555522  0.099061  0.000000  ...  0.722899  0.198276  0.111111   \n",
       "4962  0.000000  0.000000  0.380483  ...  0.000000  0.191420  0.334958   \n",
       "4963  0.000000  0.143872  0.118783  ...  0.091743  0.370690  0.283304   \n",
       "4964  0.223700  0.137030  0.000000  ...  0.733945  0.421970  0.111111   \n",
       "\n",
       "            17        18        19        20        21   22   23  \n",
       "0     0.000000  0.472441  0.587156  0.403670  0.271375  1.0  2.0  \n",
       "1     0.100000  0.637795  0.577982  0.577982  0.044610  0.5  1.0  \n",
       "2     0.100000  0.637795  0.568807  0.559633  0.048327  0.5  1.0  \n",
       "3     0.000000  0.606299  0.559633  0.550459  0.048327  1.0  1.0  \n",
       "4     0.000000  0.606299  0.577982  0.559633  0.040892  1.0  1.0  \n",
       "...        ...       ...       ...       ...       ...  ...  ...  \n",
       "4960  0.000000  0.708661  0.693713  0.675364  0.000000  1.0  3.0  \n",
       "4961  0.000000  0.590551  0.568807  0.541284  0.003717  0.5  3.0  \n",
       "4962  0.005849  0.354331  0.110360  0.303289  0.041110  0.5  3.0  \n",
       "4963  0.000000  0.309478  0.225708  0.270667  0.166177  0.5  3.0  \n",
       "4964  0.000000  0.724409  0.712021  0.684498  0.003717  0.5  3.0  \n",
       "\n",
       "[4965 rows x 24 columns]"
      ]
     },
     "execution_count": 3,
     "metadata": {},
     "output_type": "execute_result"
    }
   ],
   "source": [
    "df"
   ]
  },
  {
   "cell_type": "code",
   "execution_count": 4,
   "metadata": {},
   "outputs": [
    {
     "name": "stderr",
     "output_type": "stream",
     "text": [
      "/home/juan/simulation/simulation/lib/python3.8/site-packages/sklearn/discriminant_analysis.py:808: UserWarning: Variables are collinear\n",
      "  warnings.warn(\"Variables are collinear\")\n"
     ]
    }
   ],
   "source": [
    "clf = QuadraticDiscriminantAnalysis()\n",
    "y_score = clf.fit(X_train, y_train).decision_function(X_test)"
   ]
  },
  {
   "cell_type": "code",
   "execution_count": 5,
   "metadata": {},
   "outputs": [],
   "source": [
    "# Gmean\n",
    "Yest = clf.predict(X_test)\n",
    "gmean = geometric_mean_score(y_true = y_test, y_pred=Yest, average=\"weighted\")\n",
    "gmean_ic = np.std(gmean)"
   ]
  },
  {
   "cell_type": "code",
   "execution_count": 6,
   "metadata": {},
   "outputs": [],
   "source": [
    "# F1\n",
    "f1 = f1_score(y_true = y_test, y_pred=Yest, average = \"weighted\")\n",
    "f1_ic = np.std(f1)"
   ]
  },
  {
   "cell_type": "code",
   "execution_count": 13,
   "metadata": {},
   "outputs": [],
   "source": [
    "# Eficiencia de entrenamiento\n",
    "Ytrain_pred = clf.predict(X_train)\n"
   ]
  },
  {
   "cell_type": "code",
   "execution_count": 14,
   "metadata": {},
   "outputs": [],
   "source": [
    "# Eficiencia de test\n",
    "EficienciaVal = np.mean(Yest.ravel() == y_test.ravel())"
   ]
  },
  {
   "cell_type": "code",
   "execution_count": 15,
   "metadata": {
    "scrolled": true
   },
   "outputs": [
    {
     "data": {
      "text/plain": [
       "<sklearn.metrics._plot.confusion_matrix.ConfusionMatrixDisplay at 0x7f30e49ca100>"
      ]
     },
     "execution_count": 15,
     "metadata": {},
     "output_type": "execute_result"
    },
    {
     "data": {
      "image/png": "[encoded data removed]",
      "text/plain": [
       "<Figure size 432x288 with 2 Axes>"
      ]
     },
     "metadata": {
      "needs_background": "light"
     },
     "output_type": "display_data"
    }
   ],
   "source": [
    "plot_confusion_matrix(clf,X=X_test, y_true=y_test,normalize='true')"
   ]
  },
  {
   "cell_type": "code",
   "execution_count": 16,
   "metadata": {},
   "outputs": [],
   "source": [
    "df_types = pd.DataFrame({'Quadratic Analysis'})"
   ]
  },
  {
   "cell_type": "code",
   "execution_count": 17,
   "metadata": {},
   "outputs": [],
   "source": [
    "df_types[\"F1_Score\"] = f1\n",
    "df_types[\"Gmean\"]= gmean\n",
    "df_types[\"Eficiencia Train\"] = EficienciaTrain\n",
    "df_types[\"Eficiencia Test\"] = EficienciaVal"
   ]
  },
  {
   "cell_type": "code",
   "execution_count": 18,
   "metadata": {},
   "outputs": [
    {
     "data": {
      "text/html": [
       "<div>\n",
       "<style scoped>\n",
       "    .dataframe tbody tr th:only-of-type {\n",
       "        vertical-align: middle;\n",
       "    }\n",
       "\n",
       "    .dataframe tbody tr th {\n",
       "        vertical-align: top;\n",
       "    }\n",
       "\n",
       "    .dataframe thead th {\n",
       "        text-align: right;\n",
       "    }\n",
       "</style>\n",
       "<table border=\"1\" class=\"dataframe\">\n",
       "  <thead>\n",
       "    <tr style=\"text-align: right;\">\n",
       "      <th></th>\n",
       "      <th>0</th>\n",
       "      <th>F1_Score</th>\n",
       "      <th>Gmean</th>\n",
       "      <th>Eficiencia Train</th>\n",
       "      <th>Eficiencia Test</th>\n",
       "    </tr>\n",
       "  </thead>\n",
       "  <tbody>\n",
       "    <tr>\n",
       "      <th>0</th>\n",
       "      <td>Quadratic Analysis</td>\n",
       "      <td>0.634444</td>\n",
       "      <td>0.72514</td>\n",
       "      <td>0.661832</td>\n",
       "      <td>0.640902</td>\n",
       "    </tr>\n",
       "  </tbody>\n",
       "</table>\n",
       "</div>"
      ],
      "text/plain": [
       "                    0  F1_Score    Gmean  Eficiencia Train  Eficiencia Test\n",
       "0  Quadratic Analysis  0.634444  0.72514          0.661832         0.640902"
      ]
     },
     "execution_count": 18,
     "metadata": {},
     "output_type": "execute_result"
    }
   ],
   "source": [
    "df_types"
   ]
  },
  {
   "cell_type": "code",
   "execution_count": 20,
   "metadata": {},
   "outputs": [
    {
     "name": "stdout",
     "output_type": "stream",
     "text": [
      "{'reg_param': [0.1, 0.2, 0.3, 0.4, 0.5]}\n"
     ]
    }
   ],
   "source": [
    "params = [0.1, 0.2, 0.3, 0.4, 0.5]\n",
    "for param in params:\n",
    "    print(str(param))"
   ]
  },
  {
   "cell_type": "code",
   "execution_count": null,
   "metadata": {},
   "outputs": [],
   "source": [
    "def trainQDA(X, Y, param):\n",
    "    # Folds = 4\n",
    "    # X_train, X_test, y_train, y_test = train_test_split(X, Y, random_state=0, stratify=Y, shuffle=True, test_size = 0.25)\n",
    "    skf = StratifiedKFold(n_splits=Folds)\n",
    "    f1 = np.zeros(Folds)\n",
    "    gmean = np.zeros(Folds)\n",
    "    skf = StratifiedKFold(n_splits=Folds)\n",
    "    eficiencia_train = []\n",
    "    eficiencia_test = []\n",
    "    for train, test in skf.split(X, Y):\n",
    "        Xtrain = X[train,:]\n",
    "        Ytrain = Y[train]\n",
    "        Xtest = X[test,:]\n",
    "        Ytest = Y[test]\n",
    "        clf = QuadraticDiscriminantAnalysis(param)\n",
    "        Yest = clf.predict(Xtest)\n",
    "        f1_score_current = f1_score(y_true = Ytest, y_pred=Yest, average = \"weighted\")\n",
    "        f1.append(f1_score_current)\n",
    "        gmean_current = geometric_mean_score(y_true = Ytest, y_pred=Yest, average=\"weighted\")\n",
    "        gmean.append(gmean_current)\n",
    "        eficiencia_train_current = np.mean(Ytrain_pred.ravel() == y_train.ravel())\n",
    "        eficiencia_train.append(eficiencia_train_current)\n",
    "        eficiencia_test_current = np.mean(Ytrain_pred.ravel() == y_train.ravel())\n",
    "        eficiencia_test.append(eficiencia_train_current)\n",
    "        \n",
    "    \n",
    "    y_score = clf.fit(X_train, y_train).decision_function(X_test)\n",
    "    clf = QuadraticDiscriminantAnalysis()\n",
    "    y_score = clf.fit(X_train, y_train).decision_function(X_test)"
   ]
  },
  {
   "cell_type": "code",
   "execution_count": null,
   "metadata": {},
   "outputs": [],
   "source": [
    "    for param in params:"
   ]
  }
 ],
 "metadata": {
  "kernelspec": {
   "display_name": "Python 3",
   "language": "python",
   "name": "python3"
  },
  "language_info": {
   "codemirror_mode": {
    "name": "ipython",
    "version": 3
   },
   "file_extension": ".py",
   "mimetype": "text/x-python",
   "name": "python",
   "nbconvert_exporter": "python",
   "pygments_lexer": "ipython3",
   "version": "3.8.5"
  }
 },
 "nbformat": 4,
 "nbformat_minor": 4
}
