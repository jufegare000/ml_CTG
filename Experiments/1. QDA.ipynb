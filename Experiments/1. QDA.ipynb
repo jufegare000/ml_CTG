{
 "cells": [
  {
   "cell_type": "code",
   "execution_count": 3,
   "metadata": {
    "scrolled": true
   },
   "outputs": [
    {
     "name": "stdout",
     "output_type": "stream",
     "text": [
      "The autoreload extension is already loaded. To reload it, use:\n",
      "  %reload_ext autoreload\n"
     ]
    }
   ],
   "source": [
    "%load_ext autoreload\n",
    "%autoreload 2\n",
    "\n",
    "import pandas as pd\n",
    "import numpy as np\n",
    "from sklearn.model_selection import StratifiedKFold\n",
    "from sklearn.discriminant_analysis import QuadraticDiscriminantAnalysis\n",
    "from sklearn.datasets import make_moons, make_circles, make_classification\n",
    "from sklearn.model_selection import train_test_split\n",
    "from imblearn.metrics import geometric_mean_score\n",
    "from sklearn.metrics import plot_confusion_matrix\n",
    "from sklearn.metrics import roc_curve, roc_auc_score\n",
    "import matplotlib.pyplot as plt\n",
    "from sklearn.preprocessing import label_binarize\n",
    "import sys; sys.path.append('../Utils')\n",
    "from utils import Utils"
   ]
  },
  {
   "cell_type": "code",
   "execution_count": 4,
   "metadata": {},
   "outputs": [],
   "source": [
    "ut = Utils()"
   ]
  },
  {
   "cell_type": "code",
   "execution_count": 5,
   "metadata": {},
   "outputs": [],
   "source": [
    "def trainQDA(X, Y, param):\n",
    "    Folds = 4\n",
    "    skf = StratifiedKFold(n_splits=Folds)\n",
    "    f1 = []\n",
    "    gmean = []\n",
    "    eficiencia_train = []\n",
    "    eficiencia_test = []\n",
    "    for train, test in skf.split(X, Y):\n",
    "        X_train, Y_train, X_test, Y_test = ut.get_training_test(X=X, Y=Y, train=train, test=test)\n",
    "        clf = QuadraticDiscriminantAnalysis(reg_param=param)\n",
    "        clf.fit(X_train, Y_train)\n",
    "        f1_score_current, gmean_current, eficiencia_train_current, eficiencia_test_current = ut.get_metrics(model=clf, X_train=X_train, X_test=X_test, y_train=Y_train, Ytest=Y_test)\n",
    "        f1.append(f1_score_current)\n",
    "        gmean.append(gmean_current)\n",
    "        eficiencia_train.append(eficiencia_train_current)\n",
    "        eficiencia_test.append(eficiencia_test_current)\n",
    "        print(f1_score_current, gmean_current, eficiencia_train_current, eficiencia_test_current)\n",
    "    f1_mean, f1_ic, gmean_mean, gmean_ic, eficiencia_train_mean, eficiencia_train_ic, eficiencia_test_mean, eficiencia_test_ic = ut.get_means_and_ic(f1=f1, gmean=gmean, eficiencia_train=eficiencia_train, eficiencia_test=eficiencia_test)\n",
    "    return f1_mean, f1_ic, gmean_mean, gmean_ic, eficiencia_train_mean, eficiencia_train_ic, eficiencia_test_mean, eficiencia_test_ic"
   ]
  },
  {
   "cell_type": "code",
   "execution_count": 6,
   "metadata": {},
   "outputs": [],
   "source": [
    "df_types = pd.DataFrame({'reg_param':pd.Series([0.1, 0.2, 0.3, 0.4, 0.5]),})\n",
    "df_types[\"F1_Score\"] = \"\"\n",
    "df_types[\"F1_Score IC\"] = \"\"\n",
    "df_types[\"Gmean\"]= \"\"\n",
    "df_types[\"Gmean IC\"]= \"\"\n",
    "df_types[\"Eficiencia Train\"] = \"\"\n",
    "df_types[\"Eficiencia Train IC\"] = \"\"\n",
    "df_types[\"Eficiencia Test\"] = \"\"\n",
    "df_types[\"Eficiencia Test IC\"] = \"\""
   ]
  },
  {
   "cell_type": "code",
   "execution_count": 7,
   "metadata": {
    "scrolled": false
   },
   "outputs": [
    {
     "name": "stderr",
     "output_type": "stream",
     "text": [
      "/home/juan/anaconda3/lib/python3.8/site-packages/sklearn/discriminant_analysis.py:715: UserWarning: Variables are collinear\n",
      "  warnings.warn(\"Variables are collinear\")\n",
      "/home/juan/anaconda3/lib/python3.8/site-packages/sklearn/discriminant_analysis.py:715: UserWarning: Variables are collinear\n",
      "  warnings.warn(\"Variables are collinear\")\n",
      "/home/juan/anaconda3/lib/python3.8/site-packages/sklearn/discriminant_analysis.py:715: UserWarning: Variables are collinear\n",
      "  warnings.warn(\"Variables are collinear\")\n",
      "/home/juan/anaconda3/lib/python3.8/site-packages/sklearn/discriminant_analysis.py:715: UserWarning: Variables are collinear\n",
      "  warnings.warn(\"Variables are collinear\")\n",
      "/home/juan/anaconda3/lib/python3.8/site-packages/sklearn/discriminant_analysis.py:715: UserWarning: Variables are collinear\n",
      "  warnings.warn(\"Variables are collinear\")\n",
      "/home/juan/anaconda3/lib/python3.8/site-packages/sklearn/discriminant_analysis.py:715: UserWarning: Variables are collinear\n",
      "  warnings.warn(\"Variables are collinear\")\n",
      "/home/juan/anaconda3/lib/python3.8/site-packages/sklearn/discriminant_analysis.py:715: UserWarning: Variables are collinear\n",
      "  warnings.warn(\"Variables are collinear\")\n",
      "/home/juan/anaconda3/lib/python3.8/site-packages/sklearn/discriminant_analysis.py:715: UserWarning: Variables are collinear\n",
      "  warnings.warn(\"Variables are collinear\")\n",
      "/home/juan/anaconda3/lib/python3.8/site-packages/sklearn/discriminant_analysis.py:715: UserWarning: Variables are collinear\n",
      "  warnings.warn(\"Variables are collinear\")\n"
     ]
    },
    {
     "name": "stdout",
     "output_type": "stream",
     "text": [
      "0.7814613507747322 0.8314794192830981 0.7947891485361268 0.7777777777777778\n",
      "0.7915022265995137 0.8399510238496231 0.7854457572502686 0.7888799355358582\n",
      "0.7811590911338782 0.8306806875801207 0.7800751879699248 0.7767929089443997\n",
      "0.7363307757978119 0.8003877513527904 0.8039742212674543 0.7373086220789685\n",
      "0.7667945498582053 0.8221914962156882 0.7684662906258394 0.7657004830917874\n",
      "0.7589337863412263 0.8151560847777725 0.7521482277121375 0.7566478646253022\n",
      "0.7406719531158903 0.7996340811814695 0.7451664876476907 0.7365028203062046\n",
      "0.7144962389184356 0.7822964997675106 0.7781954887218046 0.7139403706688154\n",
      "0.7532870002149018 0.8128871688336324 0.7531560569433253 0.7536231884057971\n"
     ]
    },
    {
     "name": "stderr",
     "output_type": "stream",
     "text": [
      "/home/juan/anaconda3/lib/python3.8/site-packages/sklearn/discriminant_analysis.py:715: UserWarning: Variables are collinear\n",
      "  warnings.warn(\"Variables are collinear\")\n",
      "/home/juan/anaconda3/lib/python3.8/site-packages/sklearn/discriminant_analysis.py:715: UserWarning: Variables are collinear\n",
      "  warnings.warn(\"Variables are collinear\")\n",
      "/home/juan/anaconda3/lib/python3.8/site-packages/sklearn/discriminant_analysis.py:715: UserWarning: Variables are collinear\n",
      "  warnings.warn(\"Variables are collinear\")\n",
      "/home/juan/anaconda3/lib/python3.8/site-packages/sklearn/discriminant_analysis.py:715: UserWarning: Variables are collinear\n",
      "  warnings.warn(\"Variables are collinear\")\n",
      "/home/juan/anaconda3/lib/python3.8/site-packages/sklearn/discriminant_analysis.py:715: UserWarning: Variables are collinear\n",
      "  warnings.warn(\"Variables are collinear\")\n",
      "/home/juan/anaconda3/lib/python3.8/site-packages/sklearn/discriminant_analysis.py:715: UserWarning: Variables are collinear\n",
      "  warnings.warn(\"Variables are collinear\")\n",
      "/home/juan/anaconda3/lib/python3.8/site-packages/sklearn/discriminant_analysis.py:715: UserWarning: Variables are collinear\n",
      "  warnings.warn(\"Variables are collinear\")\n",
      "/home/juan/anaconda3/lib/python3.8/site-packages/sklearn/discriminant_analysis.py:715: UserWarning: Variables are collinear\n",
      "  warnings.warn(\"Variables are collinear\")\n",
      "/home/juan/anaconda3/lib/python3.8/site-packages/sklearn/discriminant_analysis.py:715: UserWarning: Variables are collinear\n",
      "  warnings.warn(\"Variables are collinear\")\n"
     ]
    },
    {
     "name": "stdout",
     "output_type": "stream",
     "text": [
      "0.7427830675759809 0.8033368645756837 0.7373791621911923 0.741337630942788\n",
      "0.7313177196743527 0.7927800042414582 0.735499462943072 0.7276390008058018\n",
      "0.7030852725159402 0.7729089576462868 0.7626208378088077 0.701853344077357\n",
      "0.7569627617122062 0.8153699584875571 0.7499328498522697 0.7568438003220612\n",
      "0.7383782008024669 0.7995991084045857 0.7352309344790547 0.7365028203062046\n",
      "0.7315198875238323 0.7927826849938132 0.7325456498388829 0.7276390008058018\n",
      "0.7009581812463279 0.7710273721316004 0.7596670247046187 0.6994359387590653\n",
      "0.7597789445816552 0.8172312653191196 0.7491270480795058 0.7592592592592593\n",
      "0.7379459382637726 0.7989758729438257 0.7349624060150376 0.7356970185334408\n",
      "0.7328428386740474 0.793406066218811 0.7328141783029001 0.7284448025785657\n",
      "0.7010316662252728 0.7710253849657285 0.7591299677765844 0.6994359387590653\n"
     ]
    },
    {
     "name": "stderr",
     "output_type": "stream",
     "text": [
      "/home/juan/anaconda3/lib/python3.8/site-packages/sklearn/discriminant_analysis.py:715: UserWarning: Variables are collinear\n",
      "  warnings.warn(\"Variables are collinear\")\n",
      "/home/juan/anaconda3/lib/python3.8/site-packages/sklearn/discriminant_analysis.py:715: UserWarning: Variables are collinear\n",
      "  warnings.warn(\"Variables are collinear\")\n"
     ]
    }
   ],
   "source": [
    "params = [0.1, 0.2, 0.3, 0.4, 0.5]\n",
    "X, Y = ut.get_matrixes()\n",
    "f1 = []\n",
    "f1_ic = []\n",
    "gmean = []\n",
    "gmean_ic = []\n",
    "eficiencia_train = []\n",
    "eficiencia_train_ic = []\n",
    "eficiencia_test = []\n",
    "eficiencia_test_ic = []\n",
    "for param in params:\n",
    "    f1_mean, f1_ic_, gmean_mean, gmean_ic_, eficiencia_train_mean, eficiencia_train_ic_, eficiencia_test_mean, eficiencia_test_ic_ = trainQDA(X, Y, param)\n",
    "    \n",
    "    f1.append(f1_mean)\n",
    "    f1_ic.append(f1_ic_)\n",
    "    \n",
    "    gmean.append(gmean_mean)\n",
    "    gmean_ic.append(gmean_ic_)\n",
    "    \n",
    "    eficiencia_train.append(eficiencia_train_mean)\n",
    "    eficiencia_train_ic.append(eficiencia_train_ic_)\n",
    "    \n",
    "    eficiencia_test.append(eficiencia_test_mean)\n",
    "    eficiencia_test_ic.append(eficiencia_test_ic_)\n",
    "    \n",
    "df_types[\"F1_Score\"] = f1\n",
    "df_types[\"F1_Score IC\"] = f1_ic\n",
    "df_types[\"Gmean\"]= gmean\n",
    "df_types[\"Gmean IC\"]= gmean_ic\n",
    "df_types[\"Eficiencia Train\"] = eficiencia_train\n",
    "df_types[\"Eficiencia Train IC\"] = eficiencia_train_ic\n",
    "df_types[\"Eficiencia Test\"] = eficiencia_test\n",
    "df_types[\"Eficiencia Test IC\"] = eficiencia_test_ic\n",
    "df_types.set_index(['reg_param'], inplace=True)\n",
    "    "
   ]
  },
  {
   "cell_type": "code",
   "execution_count": 8,
   "metadata": {},
   "outputs": [
    {
     "data": {
      "text/html": [
       "<div>\n",
       "<style scoped>\n",
       "    .dataframe tbody tr th:only-of-type {\n",
       "        vertical-align: middle;\n",
       "    }\n",
       "\n",
       "    .dataframe tbody tr th {\n",
       "        vertical-align: top;\n",
       "    }\n",
       "\n",
       "    .dataframe thead th {\n",
       "        text-align: right;\n",
       "    }\n",
       "</style>\n",
       "<table border=\"1\" class=\"dataframe\">\n",
       "  <thead>\n",
       "    <tr style=\"text-align: right;\">\n",
       "      <th></th>\n",
       "      <th>F1_Score</th>\n",
       "      <th>F1_Score IC</th>\n",
       "      <th>Gmean</th>\n",
       "      <th>Gmean IC</th>\n",
       "      <th>Eficiencia Train</th>\n",
       "      <th>Eficiencia Train IC</th>\n",
       "      <th>Eficiencia Test</th>\n",
       "      <th>Eficiencia Test IC</th>\n",
       "    </tr>\n",
       "    <tr>\n",
       "      <th>reg_param</th>\n",
       "      <th></th>\n",
       "      <th></th>\n",
       "      <th></th>\n",
       "      <th></th>\n",
       "      <th></th>\n",
       "      <th></th>\n",
       "      <th></th>\n",
       "      <th></th>\n",
       "    </tr>\n",
       "  </thead>\n",
       "  <tbody>\n",
       "    <tr>\n",
       "      <th>0.1</th>\n",
       "      <td>0.772613</td>\n",
       "      <td>0.021357</td>\n",
       "      <td>0.825625</td>\n",
       "      <td>0.015017</td>\n",
       "      <td>0.791071</td>\n",
       "      <td>0.009122</td>\n",
       "      <td>0.770190</td>\n",
       "      <td>0.019568</td>\n",
       "    </tr>\n",
       "    <tr>\n",
       "      <th>0.2</th>\n",
       "      <td>0.745224</td>\n",
       "      <td>0.020113</td>\n",
       "      <td>0.804820</td>\n",
       "      <td>0.015353</td>\n",
       "      <td>0.760994</td>\n",
       "      <td>0.013043</td>\n",
       "      <td>0.743198</td>\n",
       "      <td>0.019925</td>\n",
       "    </tr>\n",
       "    <tr>\n",
       "      <th>0.3</th>\n",
       "      <td>0.732618</td>\n",
       "      <td>0.018738</td>\n",
       "      <td>0.795478</td>\n",
       "      <td>0.014845</td>\n",
       "      <td>0.747164</td>\n",
       "      <td>0.011254</td>\n",
       "      <td>0.731113</td>\n",
       "      <td>0.019232</td>\n",
       "    </tr>\n",
       "    <tr>\n",
       "      <th>0.4</th>\n",
       "      <td>0.731955</td>\n",
       "      <td>0.020172</td>\n",
       "      <td>0.794695</td>\n",
       "      <td>0.015932</td>\n",
       "      <td>0.744344</td>\n",
       "      <td>0.011049</td>\n",
       "      <td>0.730105</td>\n",
       "      <td>0.020631</td>\n",
       "    </tr>\n",
       "    <tr>\n",
       "      <th>0.5</th>\n",
       "      <td>0.732900</td>\n",
       "      <td>0.020997</td>\n",
       "      <td>0.795160</td>\n",
       "      <td>0.016487</td>\n",
       "      <td>0.744008</td>\n",
       "      <td>0.010747</td>\n",
       "      <td>0.730709</td>\n",
       "      <td>0.021349</td>\n",
       "    </tr>\n",
       "  </tbody>\n",
       "</table>\n",
       "</div>"
      ],
      "text/plain": [
       "           F1_Score  F1_Score IC     Gmean  Gmean IC  Eficiencia Train  \\\n",
       "reg_param                                                                \n",
       "0.1        0.772613     0.021357  0.825625  0.015017          0.791071   \n",
       "0.2        0.745224     0.020113  0.804820  0.015353          0.760994   \n",
       "0.3        0.732618     0.018738  0.795478  0.014845          0.747164   \n",
       "0.4        0.731955     0.020172  0.794695  0.015932          0.744344   \n",
       "0.5        0.732900     0.020997  0.795160  0.016487          0.744008   \n",
       "\n",
       "           Eficiencia Train IC  Eficiencia Test  Eficiencia Test IC  \n",
       "reg_param                                                            \n",
       "0.1                   0.009122         0.770190            0.019568  \n",
       "0.2                   0.013043         0.743198            0.019925  \n",
       "0.3                   0.011254         0.731113            0.019232  \n",
       "0.4                   0.011049         0.730105            0.020631  \n",
       "0.5                   0.010747         0.730709            0.021349  "
      ]
     },
     "execution_count": 8,
     "metadata": {},
     "output_type": "execute_result"
    }
   ],
   "source": [
    "df_types"
   ]
  },
  {
   "cell_type": "code",
   "execution_count": 9,
   "metadata": {},
   "outputs": [
    {
     "name": "stderr",
     "output_type": "stream",
     "text": [
      "/home/juan/anaconda3/lib/python3.8/site-packages/sklearn/discriminant_analysis.py:715: UserWarning: Variables are collinear\n",
      "  warnings.warn(\"Variables are collinear\")\n"
     ]
    },
    {
     "data": {
      "text/plain": [
       "QuadraticDiscriminantAnalysis(reg_param=0.1)"
      ]
     },
     "execution_count": 9,
     "metadata": {},
     "output_type": "execute_result"
    }
   ],
   "source": [
    "#best results\n",
    "X_train, X_test, y_train, y_test = ut.get_train_test()\n",
    "clf = QuadraticDiscriminantAnalysis(reg_param=0.1)\n",
    "clf.fit(X_train, y_train)"
   ]
  },
  {
   "cell_type": "code",
   "execution_count": 10,
   "metadata": {},
   "outputs": [
    {
     "data": {
      "text/plain": [
       "<sklearn.metrics._plot.confusion_matrix.ConfusionMatrixDisplay at 0x7f6bd93d7fd0>"
      ]
     },
     "execution_count": 10,
     "metadata": {},
     "output_type": "execute_result"
    },
    {
     "data": {
      "image/png": "[encoded data removed]",
      "text/plain": [
       "<Figure size 432x288 with 2 Axes>"
      ]
     },
     "metadata": {
      "needs_background": "light"
     },
     "output_type": "display_data"
    }
   ],
   "source": [
    "plot_confusion_matrix(clf,X=X_test, y_true=y_test,normalize='true', cmap=plt.cm.Blues)"
   ]
  },
  {
   "cell_type": "code",
   "execution_count": null,
   "metadata": {},
   "outputs": [],
   "source": []
  }
 ],
 "metadata": {
  "kernelspec": {
   "display_name": "Python 3",
   "language": "python",
   "name": "python3"
  },
  "language_info": {
   "codemirror_mode": {
    "name": "ipython",
    "version": 3
   },
   "file_extension": ".py",
   "mimetype": "text/x-python",
   "name": "python",
   "nbconvert_exporter": "python",
   "pygments_lexer": "ipython3",
   "version": "3.8.5"
  }
 },
 "nbformat": 4,
 "nbformat_minor": 4
}
