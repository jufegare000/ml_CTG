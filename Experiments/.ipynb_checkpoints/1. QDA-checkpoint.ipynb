{
 "cells": [
  {
   "cell_type": "code",
   "execution_count": 1,
   "metadata": {
    "scrolled": true
   },
   "outputs": [],
   "source": [
    "%load_ext autoreload\n",
    "%autoreload 2\n",
    "\n",
    "import pandas as pd\n",
    "import numpy as np\n",
    "from sklearn.model_selection import StratifiedKFold\n",
    "from sklearn.discriminant_analysis import QuadraticDiscriminantAnalysis\n",
    "from sklearn.datasets import make_moons, make_circles, make_classification\n",
    "from sklearn.model_selection import train_test_split\n",
    "from imblearn.metrics import geometric_mean_score\n",
    "from sklearn.metrics import plot_confusion_matrix\n",
    "from sklearn.metrics import roc_curve, roc_auc_score\n",
    "from sklearn.metrics import plot_confusion_matrix, plot_roc_curve\n",
    "import matplotlib.pyplot as plt\n",
    "from sklearn.preprocessing import label_binarize\n",
    "import sys; sys.path.append('../Utils')\n",
    "from utils import Utils"
   ]
  },
  {
   "cell_type": "code",
   "execution_count": 2,
   "metadata": {},
   "outputs": [],
   "source": [
    "ut = Utils()"
   ]
  },
  {
   "cell_type": "code",
   "execution_count": 9,
   "metadata": {},
   "outputs": [],
   "source": [
    "def trainQDA(X, Y, param):\n",
    "    Folds = 4\n",
    "    skf = StratifiedKFold(n_splits=Folds)\n",
    "    f1 = []\n",
    "    gmean = []\n",
    "    eficiencia_train = []\n",
    "    eficiencia_test = []\n",
    "    for train, test in skf.split(X, Y):\n",
    "        X_train, Y_train, X_test, Y_test = ut.get_training_test(X=X, Y=Y, train=train, test=test)\n",
    "        clf = QuadraticDiscriminantAnalysis(reg_param=param)\n",
    "        clf.fit(X_train, Y_train)\n",
    "        f1_score_current, gmean_current, eficiencia_train_current, eficiencia_test_current = ut.get_metrics(model=clf, X_train=X_train, X_test=X_test, y_train=y_train, Ytest=y_test)\n",
    "        f1.append(f1_score_current)\n",
    "        gmean.append(gmean_current)\n",
    "        eficiencia_train.append(eficiencia_train_current)\n",
    "        eficiencia_test.append(eficiencia_test_current)\n",
    "        print(f1_score_current, gmean_current, eficiencia_train_current, eficiencia_test_current)\n",
    "    f1_mean, f1_ic, gmean_mean, gmean_ic, eficiencia_train_mean, eficiencia_train_ic, eficiencia_test_mean, eficiencia_test_ic = ut.get_means_and_ic(f1=f1, gmean=gmean, eficiencia_train=eficiencia_train, eficiencia_test=eficiencia_test)\n",
    "    return f1_mean, f1_ic, gmean_mean, gmean_ic, eficiencia_train_mean, eficiencia_train_ic, eficiencia_test_mean, eficiencia_test_ic"
   ]
  },
  {
   "cell_type": "code",
   "execution_count": 10,
   "metadata": {},
   "outputs": [],
   "source": [
    "df_types = pd.DataFrame({'reg_param':pd.Series([0.1, 0.2, 0.3, 0.4, 0.5]),})\n",
    "df_types[\"F1_Score\"] = \"\"\n",
    "df_types[\"F1_Score IC\"] = \"\"\n",
    "df_types[\"Gmean\"]= \"\"\n",
    "df_types[\"Gmean IC\"]= \"\"\n",
    "df_types[\"Eficiencia Train\"] = \"\"\n",
    "df_types[\"Eficiencia Train IC\"] = \"\"\n",
    "df_types[\"Eficiencia Test\"] = \"\"\n",
    "df_types[\"Eficiencia Test IC\"] = \"\""
   ]
  },
  {
   "cell_type": "code",
   "execution_count": 11,
   "metadata": {
    "scrolled": false
   },
   "outputs": [
    {
     "name": "stderr",
     "output_type": "stream",
     "text": [
      "/home/juan/simulation/simulation/lib/python3.8/site-packages/sklearn/discriminant_analysis.py:715: UserWarning: Variables are collinear\n",
      "  warnings.warn(\"Variables are collinear\")\n"
     ]
    },
    {
     "ename": "NameError",
     "evalue": "name 'X_test' is not defined",
     "output_type": "error",
     "traceback": [
      "\u001b[0;31m---------------------------------------------------------------------------\u001b[0m",
      "\u001b[0;31mNameError\u001b[0m                                 Traceback (most recent call last)",
      "\u001b[0;32m<ipython-input-11-e52512778251>\u001b[0m in \u001b[0;36m<module>\u001b[0;34m\u001b[0m\n\u001b[1;32m     10\u001b[0m \u001b[0meficiencia_test_ic\u001b[0m \u001b[0;34m=\u001b[0m \u001b[0;34m[\u001b[0m\u001b[0;34m]\u001b[0m\u001b[0;34m\u001b[0m\u001b[0;34m\u001b[0m\u001b[0m\n\u001b[1;32m     11\u001b[0m \u001b[0;32mfor\u001b[0m \u001b[0mparam\u001b[0m \u001b[0;32min\u001b[0m \u001b[0mparams\u001b[0m\u001b[0;34m:\u001b[0m\u001b[0;34m\u001b[0m\u001b[0;34m\u001b[0m\u001b[0m\n\u001b[0;32m---> 12\u001b[0;31m     \u001b[0mf1_mean\u001b[0m\u001b[0;34m,\u001b[0m \u001b[0mf1_ic_\u001b[0m\u001b[0;34m,\u001b[0m \u001b[0mgmean_mean\u001b[0m\u001b[0;34m,\u001b[0m \u001b[0mgmean_ic_\u001b[0m\u001b[0;34m,\u001b[0m \u001b[0meficiencia_train_mean\u001b[0m\u001b[0;34m,\u001b[0m \u001b[0meficiencia_train_ic_\u001b[0m\u001b[0;34m,\u001b[0m \u001b[0meficiencia_test_mean\u001b[0m\u001b[0;34m,\u001b[0m \u001b[0meficiencia_test_ic_\u001b[0m \u001b[0;34m=\u001b[0m \u001b[0mtrainQDA\u001b[0m\u001b[0;34m(\u001b[0m\u001b[0mX\u001b[0m\u001b[0;34m,\u001b[0m \u001b[0mY\u001b[0m\u001b[0;34m,\u001b[0m \u001b[0mparam\u001b[0m\u001b[0;34m)\u001b[0m\u001b[0;34m\u001b[0m\u001b[0;34m\u001b[0m\u001b[0m\n\u001b[0m\u001b[1;32m     13\u001b[0m \u001b[0;34m\u001b[0m\u001b[0m\n\u001b[1;32m     14\u001b[0m     \u001b[0mf1\u001b[0m\u001b[0;34m.\u001b[0m\u001b[0mappend\u001b[0m\u001b[0;34m(\u001b[0m\u001b[0mf1_mean\u001b[0m\u001b[0;34m)\u001b[0m\u001b[0;34m\u001b[0m\u001b[0;34m\u001b[0m\u001b[0m\n",
      "\u001b[0;32m<ipython-input-9-0a61d31ebaf3>\u001b[0m in \u001b[0;36mtrainQDA\u001b[0;34m(X, Y, param)\u001b[0m\n\u001b[1;32m     10\u001b[0m         \u001b[0mclf\u001b[0m \u001b[0;34m=\u001b[0m \u001b[0mQuadraticDiscriminantAnalysis\u001b[0m\u001b[0;34m(\u001b[0m\u001b[0mreg_param\u001b[0m\u001b[0;34m=\u001b[0m\u001b[0mparam\u001b[0m\u001b[0;34m)\u001b[0m\u001b[0;34m\u001b[0m\u001b[0;34m\u001b[0m\u001b[0m\n\u001b[1;32m     11\u001b[0m         \u001b[0mclf\u001b[0m\u001b[0;34m.\u001b[0m\u001b[0mfit\u001b[0m\u001b[0;34m(\u001b[0m\u001b[0mX_train\u001b[0m\u001b[0;34m,\u001b[0m \u001b[0mY_train\u001b[0m\u001b[0;34m)\u001b[0m\u001b[0;34m\u001b[0m\u001b[0;34m\u001b[0m\u001b[0m\n\u001b[0;32m---> 12\u001b[0;31m         \u001b[0mf1_score_current\u001b[0m\u001b[0;34m,\u001b[0m \u001b[0mgmean_current\u001b[0m\u001b[0;34m,\u001b[0m \u001b[0meficiencia_train_current\u001b[0m\u001b[0;34m,\u001b[0m \u001b[0meficiencia_test_current\u001b[0m \u001b[0;34m=\u001b[0m \u001b[0mut\u001b[0m\u001b[0;34m.\u001b[0m\u001b[0mget_metrics\u001b[0m\u001b[0;34m(\u001b[0m\u001b[0mmodel\u001b[0m\u001b[0;34m=\u001b[0m\u001b[0mclf\u001b[0m\u001b[0;34m,\u001b[0m \u001b[0mX_train\u001b[0m\u001b[0;34m=\u001b[0m\u001b[0mX_train\u001b[0m\u001b[0;34m,\u001b[0m \u001b[0mX_test\u001b[0m\u001b[0;34m=\u001b[0m\u001b[0mX_test\u001b[0m\u001b[0;34m,\u001b[0m \u001b[0my_train\u001b[0m\u001b[0;34m=\u001b[0m\u001b[0my_train\u001b[0m\u001b[0;34m,\u001b[0m \u001b[0mYtest\u001b[0m\u001b[0;34m=\u001b[0m\u001b[0my_test\u001b[0m\u001b[0;34m)\u001b[0m\u001b[0;34m\u001b[0m\u001b[0;34m\u001b[0m\u001b[0m\n\u001b[0m\u001b[1;32m     13\u001b[0m         \u001b[0mf1\u001b[0m\u001b[0;34m.\u001b[0m\u001b[0mappend\u001b[0m\u001b[0;34m(\u001b[0m\u001b[0mf1_score_current\u001b[0m\u001b[0;34m)\u001b[0m\u001b[0;34m\u001b[0m\u001b[0;34m\u001b[0m\u001b[0m\n\u001b[1;32m     14\u001b[0m         \u001b[0mgmean\u001b[0m\u001b[0;34m.\u001b[0m\u001b[0mappend\u001b[0m\u001b[0;34m(\u001b[0m\u001b[0mgmean_current\u001b[0m\u001b[0;34m)\u001b[0m\u001b[0;34m\u001b[0m\u001b[0;34m\u001b[0m\u001b[0m\n",
      "\u001b[0;31mNameError\u001b[0m: name 'X_test' is not defined"
     ]
    }
   ],
   "source": [
    "params = [0.1, 0.2, 0.3, 0.4, 0.5]\n",
    "X, Y = ut.get_matrixes()\n",
    "f1 = []\n",
    "f1_ic = []\n",
    "gmean = []\n",
    "gmean_ic = []\n",
    "eficiencia_train = []\n",
    "eficiencia_train_ic = []\n",
    "eficiencia_test = []\n",
    "eficiencia_test_ic = []\n",
    "for param in params:\n",
    "    f1_mean, f1_ic_, gmean_mean, gmean_ic_, eficiencia_train_mean, eficiencia_train_ic_, eficiencia_test_mean, eficiencia_test_ic_ = trainQDA(X, Y, param)\n",
    "    \n",
    "    f1.append(f1_mean)\n",
    "    f1_ic.append(f1_ic_)\n",
    "    \n",
    "    gmean.append(gmean_mean)\n",
    "    gmean_ic.append(gmean_ic_)\n",
    "    \n",
    "    eficiencia_train.append(eficiencia_train_mean)\n",
    "    eficiencia_train_ic.append(eficiencia_train_ic_)\n",
    "    \n",
    "    eficiencia_test.append(eficiencia_test_mean)\n",
    "    eficiencia_test_ic.append(eficiencia_test_ic_)\n",
    "    \n",
    "df_types[\"F1_Score\"] = f1\n",
    "df_types[\"F1_Score IC\"] = f1_ic\n",
    "df_types[\"Gmean\"]= gmean\n",
    "df_types[\"Gmean IC\"]= gmean_ic\n",
    "df_types[\"Eficiencia Train\"] = eficiencia_train\n",
    "df_types[\"Eficiencia Train IC\"] = eficiencia_train_ic\n",
    "df_types[\"Eficiencia Test\"] = eficiencia_test\n",
    "df_types[\"Eficiencia Test IC\"] = eficiencia_test_ic\n",
    "df_types.set_index(['reg_param'], inplace=True)\n",
    "    "
   ]
  },
  {
   "cell_type": "code",
   "execution_count": null,
   "metadata": {},
   "outputs": [],
   "source": [
    "df_types"
   ]
  },
  {
   "cell_type": "code",
   "execution_count": null,
   "metadata": {},
   "outputs": [],
   "source": []
  },
  {
   "cell_type": "code",
   "execution_count": null,
   "metadata": {},
   "outputs": [],
   "source": []
  },
  {
   "cell_type": "code",
   "execution_count": null,
   "metadata": {},
   "outputs": [],
   "source": [
    "plot_confusion_matrix(clf,X=X_test, y_true=y_test,normalize='true')"
   ]
  }
 ],
 "metadata": {
  "kernelspec": {
   "display_name": "Python 3",
   "language": "python",
   "name": "python3"
  },
  "language_info": {
   "codemirror_mode": {
    "name": "ipython",
    "version": 3
   },
   "file_extension": ".py",
   "mimetype": "text/x-python",
   "name": "python",
   "nbconvert_exporter": "python",
   "pygments_lexer": "ipython3",
   "version": "3.8.5"
  }
 },
 "nbformat": 4,
 "nbformat_minor": 4
}
