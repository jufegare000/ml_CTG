{
 "cells": [
  {
   "cell_type": "markdown",
   "metadata": {},
   "source": [
    "Neural Networks"
   ]
  },
  {
   "cell_type": "code",
   "execution_count": 1,
   "metadata": {},
   "outputs": [],
   "source": [
    "import numpy as np\n",
    "import matplotlib.pyplot as plt\n",
    "import pandas as pd\n",
    "from sklearn.neural_network import MLPClassifier\n",
    "from numpy import random\n",
    "from sklearn.model_selection import StratifiedKFold\n",
    "from sklearn import preprocessing\n",
    "from numpy import matlib\n",
    "import qgrid\n",
    "from sklearn.model_selection import train_test_split\n",
    "from sklearn.metrics import roc_curve, roc_auc_score\n",
    "from imblearn.metrics import geometric_mean_score\n",
    "from sklearn.metrics import f1_score\n",
    "from sklearn.metrics import plot_confusion_matrix"
   ]
  },
  {
   "cell_type": "code",
   "execution_count": 2,
   "metadata": {
    "scrolled": true
   },
   "outputs": [],
   "source": [
    "df = pd.read_csv('../data/CTGsmt.csv', header=None)\n",
    "data = df.to_numpy()\n",
    "# Features matrix\n",
    "X = data[:,0:22]\n",
    "Y = data[:,23]"
   ]
  },
  {
   "cell_type": "code",
   "execution_count": 3,
   "metadata": {},
   "outputs": [],
   "source": [
    "X_train, X_test, y_train, y_test = train_test_split(X, Y, random_state=0, stratify=Y, shuffle=True)"
   ]
  },
  {
   "cell_type": "code",
   "execution_count": 7,
   "metadata": {},
   "outputs": [],
   "source": [
    "def redes_neuronales(neuronas, capas_ocultas):\n",
    "    capas = capas_ocultas*(neuronas,)    \n",
    "        \n",
    "    Folds = 4\n",
    "    random.seed(19680801)\n",
    "    EficienciaTrain = np.zeros(Folds)\n",
    "    EficienciaVal = np.zeros(Folds)\n",
    "    skf = StratifiedKFold(n_splits=Folds)\n",
    "    f1 = np.zeros(Folds)\n",
    "    gmean = np.zeros(Folds)\n",
    "    skf = StratifiedKFold(n_splits=Folds)\n",
    "    j = 0\n",
    "    for train, test in skf.split(X, Y):\n",
    "        Xtrain = X[train,:]\n",
    "        Ytrain = Y[train]\n",
    "        Xtest = X[test,:]\n",
    "        Ytest = Y[test]\n",
    "        \n",
    "        #Se normalizan los datos\n",
    "        media = np.mean(Xtrain)\n",
    "        desvia = np.std(Xtrain)\n",
    "        Xtrain = preprocessing.scale(Xtrain)\n",
    "        Xtest = (Xtest - np.matlib.repmat(media, Xtest.shape[0], 1))/np.matlib.repmat(desvia, Xtest.shape[0], 1)\n",
    "        \n",
    "        #Llamado a la función para crear y entrenar el modelo usando los datos de entrenamiento\n",
    "        mlp = MLPClassifier(hidden_layer_sizes=capas,activation = 'relu',max_iter=1000)\n",
    "        mlp.fit(Xtrain,Ytrain)\n",
    "        \n",
    "        #Validación con las muestras de entrenamiento\n",
    "        Ytrain_pred = mlp.predict(Xtrain)\n",
    "\n",
    "        #Validación con las muestras de test    \n",
    "        Yest = mlp.predict(Xtest)\n",
    "        Y_pred =mlp.predict_proba(Xtest)\n",
    "        #Evaluamos las predicciones del modelo con los datos de test\n",
    "        gmean[j] =  geometric_mean_score(y_true = Ytest, y_pred=Yest, average=\"weighted\")\n",
    "        f1[j] = f1_score(y_true = Ytest, y_pred=Yest, average = \"weighted\")\n",
    "        EficienciaTrain[j] = np.mean(Ytrain_pred.ravel() == Ytrain.ravel())\n",
    "        EficienciaVal[j] = np.mean(Yest.ravel() == Ytest.ravel())\n",
    "        j += 1\n",
    "    f1_m = np.mean(f1)\n",
    "    f1_ic = np.std(f1)\n",
    "    gmean = np.mean(gmean)\n",
    "    gmean_ic = np.std(gmean)\n",
    "    efi_train = np.mean(EficienciaTrain)\n",
    "    efi_train_ic = np.std(EficienciaTrain)\n",
    "    efi_test = np.mean(EficienciaVal)\n",
    "    efi_test_ic = np.std(EficienciaVal)\n",
    "    \n",
    "    print(\"Modelo entrenado con \" + str(neuronas) + \" neuronas y con \" + str(capas_ocultas) + \" capas ocultas\" + str(capas))\n",
    "    return str(f1_m), str(f1_ic), str(gmean), str(gmean_ic), str(efi_train), str(efi_train_ic), str(efi_test), str(efi_test_ic)"
   ]
  },
  {
   "cell_type": "code",
   "execution_count": 8,
   "metadata": {},
   "outputs": [],
   "source": [
    "\n",
    "\n",
    "df_types = pd.DataFrame({\n",
    "    'N. de capas ocultas' : pd.Series([1,1,1,1,1,\n",
    "                                       2,2,2,2,2,\n",
    "                                       3,3,3,3,3,\n",
    "                                       4,4,4,4,4,\n",
    "                                       5,5,5,5,5]),\n",
    "    \n",
    "    'Neuronas por capa' : pd.Series([10,30,50,70,90,\n",
    "                                    10,30,50,70,90,\n",
    "                                    10,30,50,70,90,\n",
    "                                    10,30,50,70,90,\n",
    "                                    10,30,50,70,90])})\n",
    "df_types[\"F1_Score\"] = \"\"\n",
    "df_types[\"IC F1\"]= \"\"\n",
    "df_types[\"AUC\"]= \"\"\n",
    "df_types[\"IC AUC\"]= \"\"\n",
    "df_types[\"Gmean\"]= \"\"\n",
    "df_types[\"IC Gmean\"]= \"\"\n",
    "df_types[\"Eficiencia Train\"] = \"\"\n",
    "df_types[\"IC Eficiencia Train\"] = \"\"\n",
    "df_types[\"Eficiencia Test\"] = \"\"\n",
    "df_types[\"IC Eficiencia Test\"] = \"\"\n",
    "df_types.set_index(['N. de capas ocultas','Neuronas por capa'], inplace=True)\n"
   ]
  },
  {
   "cell_type": "code",
   "execution_count": 9,
   "metadata": {},
   "outputs": [
    {
     "ename": "NameError",
     "evalue": "name 'modelo' is not defined",
     "output_type": "error",
     "traceback": [
      "\u001b[0;31m---------------------------------------------------------------------------\u001b[0m",
      "\u001b[0;31mNameError\u001b[0m                                 Traceback (most recent call last)",
      "\u001b[0;32m<ipython-input-9-60c77979d1c4>\u001b[0m in \u001b[0;36m<module>\u001b[0;34m\u001b[0m\n\u001b[1;32m      1\u001b[0m \u001b[0;32mfor\u001b[0m \u001b[0mcap\u001b[0m\u001b[0;34m,\u001b[0m\u001b[0mneu\u001b[0m \u001b[0;32min\u001b[0m \u001b[0mdf_types\u001b[0m\u001b[0;34m.\u001b[0m\u001b[0mindex\u001b[0m\u001b[0;34m:\u001b[0m\u001b[0;34m\u001b[0m\u001b[0;34m\u001b[0m\u001b[0m\n\u001b[0;32m----> 2\u001b[0;31m     \u001b[0mf1_m\u001b[0m\u001b[0;34m,\u001b[0m \u001b[0mf1_ic\u001b[0m\u001b[0;34m,\u001b[0m \u001b[0mgmean_m\u001b[0m\u001b[0;34m,\u001b[0m \u001b[0mgmean_ic\u001b[0m\u001b[0;34m,\u001b[0m \u001b[0mefi_train\u001b[0m\u001b[0;34m,\u001b[0m \u001b[0mefi_train_ic\u001b[0m\u001b[0;34m,\u001b[0m \u001b[0mefi_test\u001b[0m\u001b[0;34m,\u001b[0m \u001b[0mefi_test_ic\u001b[0m \u001b[0;34m=\u001b[0m\u001b[0mredes_neuronales\u001b[0m\u001b[0;34m(\u001b[0m\u001b[0mneuronas\u001b[0m\u001b[0;34m=\u001b[0m\u001b[0mneu\u001b[0m\u001b[0;34m,\u001b[0m\u001b[0mcapas_ocultas\u001b[0m\u001b[0;34m=\u001b[0m\u001b[0mcap\u001b[0m\u001b[0;34m)\u001b[0m\u001b[0;34m\u001b[0m\u001b[0;34m\u001b[0m\u001b[0m\n\u001b[0m\u001b[1;32m      3\u001b[0m     \u001b[0mdf_types\u001b[0m\u001b[0;34m[\u001b[0m\u001b[0;34m\"F1_Score\"\u001b[0m\u001b[0;34m]\u001b[0m\u001b[0;34m[\u001b[0m\u001b[0mcap\u001b[0m\u001b[0;34m,\u001b[0m\u001b[0mneu\u001b[0m\u001b[0;34m]\u001b[0m \u001b[0;34m=\u001b[0m \u001b[0mf1_m\u001b[0m\u001b[0;34m\u001b[0m\u001b[0;34m\u001b[0m\u001b[0m\n\u001b[1;32m      4\u001b[0m     \u001b[0mdf_types\u001b[0m\u001b[0;34m[\u001b[0m\u001b[0;34m\"IC F1\"\u001b[0m\u001b[0;34m]\u001b[0m\u001b[0;34m[\u001b[0m\u001b[0mcap\u001b[0m\u001b[0;34m,\u001b[0m\u001b[0mneu\u001b[0m\u001b[0;34m]\u001b[0m \u001b[0;34m=\u001b[0m \u001b[0mf1_ic\u001b[0m\u001b[0;34m\u001b[0m\u001b[0;34m\u001b[0m\u001b[0m\n\u001b[1;32m      5\u001b[0m     \u001b[0mdf_types\u001b[0m\u001b[0;34m[\u001b[0m\u001b[0;34m\"Gmean\"\u001b[0m\u001b[0;34m]\u001b[0m\u001b[0;34m[\u001b[0m\u001b[0mcap\u001b[0m\u001b[0;34m,\u001b[0m\u001b[0mneu\u001b[0m\u001b[0;34m]\u001b[0m \u001b[0;34m=\u001b[0m \u001b[0mgmean_m\u001b[0m\u001b[0;34m\u001b[0m\u001b[0;34m\u001b[0m\u001b[0m\n",
      "\u001b[0;32m<ipython-input-7-548aa1b217f2>\u001b[0m in \u001b[0;36mredes_neuronales\u001b[0;34m(neuronas, capas_ocultas)\u001b[0m\n\u001b[1;32m     39\u001b[0m         \u001b[0mEficienciaTrain\u001b[0m\u001b[0;34m[\u001b[0m\u001b[0mj\u001b[0m\u001b[0;34m]\u001b[0m \u001b[0;34m=\u001b[0m \u001b[0mnp\u001b[0m\u001b[0;34m.\u001b[0m\u001b[0mmean\u001b[0m\u001b[0;34m(\u001b[0m\u001b[0mYtrain_pred\u001b[0m\u001b[0;34m.\u001b[0m\u001b[0mravel\u001b[0m\u001b[0;34m(\u001b[0m\u001b[0;34m)\u001b[0m \u001b[0;34m==\u001b[0m \u001b[0mYtrain\u001b[0m\u001b[0;34m.\u001b[0m\u001b[0mravel\u001b[0m\u001b[0;34m(\u001b[0m\u001b[0;34m)\u001b[0m\u001b[0;34m)\u001b[0m\u001b[0;34m\u001b[0m\u001b[0;34m\u001b[0m\u001b[0m\n\u001b[1;32m     40\u001b[0m         \u001b[0mEficienciaVal\u001b[0m\u001b[0;34m[\u001b[0m\u001b[0mj\u001b[0m\u001b[0;34m]\u001b[0m \u001b[0;34m=\u001b[0m \u001b[0mnp\u001b[0m\u001b[0;34m.\u001b[0m\u001b[0mmean\u001b[0m\u001b[0;34m(\u001b[0m\u001b[0mYest\u001b[0m\u001b[0;34m.\u001b[0m\u001b[0mravel\u001b[0m\u001b[0;34m(\u001b[0m\u001b[0;34m)\u001b[0m \u001b[0;34m==\u001b[0m \u001b[0mYtest\u001b[0m\u001b[0;34m.\u001b[0m\u001b[0mravel\u001b[0m\u001b[0;34m(\u001b[0m\u001b[0;34m)\u001b[0m\u001b[0;34m)\u001b[0m\u001b[0;34m\u001b[0m\u001b[0;34m\u001b[0m\u001b[0m\n\u001b[0;32m---> 41\u001b[0;31m         \u001b[0mporc_vectores\u001b[0m\u001b[0;34m[\u001b[0m\u001b[0mj\u001b[0m\u001b[0;34m]\u001b[0m \u001b[0;34m=\u001b[0m \u001b[0mlen\u001b[0m\u001b[0;34m(\u001b[0m\u001b[0mmodelo\u001b[0m\u001b[0;34m.\u001b[0m\u001b[0msupport_vectors_\u001b[0m\u001b[0;34m)\u001b[0m\u001b[0;34m/\u001b[0m\u001b[0mlen\u001b[0m\u001b[0;34m(\u001b[0m\u001b[0mXtrain\u001b[0m\u001b[0;34m)\u001b[0m\u001b[0;34m\u001b[0m\u001b[0;34m\u001b[0m\u001b[0m\n\u001b[0m\u001b[1;32m     42\u001b[0m         \u001b[0mj\u001b[0m \u001b[0;34m+=\u001b[0m \u001b[0;36m1\u001b[0m\u001b[0;34m\u001b[0m\u001b[0;34m\u001b[0m\u001b[0m\n\u001b[1;32m     43\u001b[0m     \u001b[0mf1_m\u001b[0m \u001b[0;34m=\u001b[0m \u001b[0mnp\u001b[0m\u001b[0;34m.\u001b[0m\u001b[0mmean\u001b[0m\u001b[0;34m(\u001b[0m\u001b[0mf1\u001b[0m\u001b[0;34m)\u001b[0m\u001b[0;34m\u001b[0m\u001b[0;34m\u001b[0m\u001b[0m\n",
      "\u001b[0;31mNameError\u001b[0m: name 'modelo' is not defined"
     ]
    }
   ],
   "source": [
    "for cap,neu in df_types.index:\n",
    "    f1_m, f1_ic, gmean_m, gmean_ic, efi_train, efi_train_ic, efi_test, efi_test_ic =redes_neuronales(neuronas=neu,capas_ocultas=cap)\n",
    "    df_types[\"F1_Score\"][cap,neu] = f1_m \n",
    "    df_types[\"IC F1\"][cap,neu] = f1_ic\n",
    "    df_types[\"Gmean\"][cap,neu] = gmean_m\n",
    "    df_types[\"IC Gmean\"][cap,neu] = stdgmean\n",
    "    df_types[\"Eficiencia Train\"] = efi_train\n",
    "    df_types[\"IC Eficiencia Train\"] = efi_train_ic\n",
    "    df_types[\"Eficiencia Test\"] = efi_test\n",
    "    df_types[\"IC Eficiencia Test\"] = efi_test_ic\n",
    "df_types"
   ]
  },
  {
   "cell_type": "code",
   "execution_count": null,
   "metadata": {},
   "outputs": [],
   "source": [
    "model = MLPClassifier(hidden_layer_sizes=(70,70,70),activation = 'relu',max_iter=1000)"
   ]
  },
  {
   "cell_type": "code",
   "execution_count": null,
   "metadata": {},
   "outputs": [],
   "source": [
    "skf = StratifiedKFold(n_splits=4)\n",
    "for train, test in skf.split(X, Y):\n",
    "    Xtrain = X[train,:]\n",
    "    Ytrain = Y[train]\n",
    "    Xtest = X[test,:]\n",
    "    Ytest = Y[test]\n",
    "\n",
    "    #Se normalizan los datos\n",
    "    media = np.mean(Xtrain)\n",
    "    desvia = np.std(Xtrain)\n",
    "    Xtrain = preprocessing.scale(Xtrain)\n",
    "    Xtest = (Xtest - np.matlib.repmat(media, Xtest.shape[0], 1))/np.matlib.repmat(desvia, Xtest.shape[0], 1)\n",
    "  "
   ]
  },
  {
   "cell_type": "code",
   "execution_count": null,
   "metadata": {},
   "outputs": [],
   "source": [
    "model.fit(Xtrain,Ytrain)"
   ]
  },
  {
   "cell_type": "code",
   "execution_count": null,
   "metadata": {},
   "outputs": [],
   "source": [
    "plot_confusion_matrix(model,X=Xtest, y_true=Ytest,normalize='true')"
   ]
  },
  {
   "cell_type": "code",
   "execution_count": null,
   "metadata": {},
   "outputs": [],
   "source": []
  }
 ],
 "metadata": {
  "celltoolbar": "Slideshow",
  "kernelspec": {
   "display_name": "Python 3",
   "language": "python",
   "name": "python3"
  },
  "language_info": {
   "codemirror_mode": {
    "name": "ipython",
    "version": 3
   },
   "file_extension": ".py",
   "mimetype": "text/x-python",
   "name": "python",
   "nbconvert_exporter": "python",
   "pygments_lexer": "ipython3",
   "version": "3.8.5"
  }
 },
 "nbformat": 4,
 "nbformat_minor": 4
}
