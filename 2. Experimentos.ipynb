{
 "cells": [
  {
   "cell_type": "code",
   "execution_count": 3,
   "metadata": {},
   "outputs": [],
   "source": [
    "import pandas as pd\n",
    "import numpy as np\n",
    "import seaborn as sns\n",
    "from sklearn.model_selection import train_test_split\n",
    "from imblearn.over_sampling import SMOTE"
   ]
  },
  {
   "cell_type": "markdown",
   "metadata": {},
   "source": [
    "Data upload"
   ]
  },
  {
   "cell_type": "code",
   "execution_count": 4,
   "metadata": {},
   "outputs": [],
   "source": [
    "df = pd.read_excel('data/CTG.xls', sheet_name='Raw Data', header=0, skiprows=[1])\n",
    "data = df.to_numpy()"
   ]
  },
  {
   "cell_type": "code",
   "execution_count": 5,
   "metadata": {},
   "outputs": [
    {
     "data": {
      "text/plain": [
       "array([[120., 120.,   0., ...,  73.,   1.,   2.],\n",
       "       [132., 132.,   4., ...,  12.,   0.,   1.],\n",
       "       [133., 133.,   2., ...,  13.,   0.,   1.],\n",
       "       ...,\n",
       "       [140., 140.,   1., ...,   4.,   1.,   2.],\n",
       "       [140., 140.,   1., ...,   4.,   1.,   2.],\n",
       "       [142., 142.,   1., ...,   1.,   0.,   1.]])"
      ]
     },
     "execution_count": 5,
     "metadata": {},
     "output_type": "execute_result"
    }
   ],
   "source": [
    "data"
   ]
  },
  {
   "cell_type": "code",
   "execution_count": 6,
   "metadata": {},
   "outputs": [],
   "source": [
    "# Features matrix\n",
    "X = data[:,0:22]\n",
    "Y = data[:,23]"
   ]
  },
  {
   "cell_type": "markdown",
   "metadata": {},
   "source": [
    "Training samples"
   ]
  },
  {
   "cell_type": "code",
   "execution_count": 7,
   "metadata": {},
   "outputs": [],
   "source": [
    "X_train, X_test, y_train, y_test = train_test_split(X, Y, random_state=0, stratify=Y, shuffle=True)"
   ]
  },
  {
   "cell_type": "code",
   "execution_count": 8,
   "metadata": {},
   "outputs": [
    {
     "data": {
      "text/plain": [
       "(3723, 22)"
      ]
     },
     "execution_count": 8,
     "metadata": {},
     "output_type": "execute_result"
    }
   ],
   "source": [
    "smt = SMOTE()\n",
    "X_smt, Y_smt = smt.fit_resample(X_train, y_train)\n",
    "X_smt.shape"
   ]
  },
  {
   "cell_type": "code",
   "execution_count": 9,
   "metadata": {},
   "outputs": [
    {
     "name": "stdout",
     "output_type": "stream",
     "text": [
      "original data: \n",
      " [[1.000e+00 1.241e+03]\n",
      " [2.000e+00 2.210e+02]\n",
      " [3.000e+00 1.320e+02]]\n"
     ]
    }
   ],
   "source": [
    "(unique, counts) = np.unique(y_train, return_counts=True)\n",
    "frqs = np.asarray((unique, counts)).T\n",
    "print('original data: \\n', frqs)"
   ]
  },
  {
   "cell_type": "code",
   "execution_count": 10,
   "metadata": {},
   "outputs": [
    {
     "name": "stdout",
     "output_type": "stream",
     "text": [
      "smooted data: \n",
      " [[1.000e+00 1.241e+03]\n",
      " [2.000e+00 1.241e+03]\n",
      " [3.000e+00 1.241e+03]]\n"
     ]
    }
   ],
   "source": [
    "(unique, counts) = np.unique(Y_smt, return_counts=True)\n",
    "frqs = np.asarray((unique, counts)).T\n",
    "print('smooted data: \\n', frqs)"
   ]
  },
  {
   "cell_type": "code",
   "execution_count": 11,
   "metadata": {},
   "outputs": [
    {
     "name": "stdout",
     "output_type": "stream",
     "text": [
      "test data: \n",
      " [[  1. 414.]\n",
      " [  2.  74.]\n",
      " [  3.  44.]]\n"
     ]
    }
   ],
   "source": [
    "(unique, counts) = np.unique(y_test, return_counts=True)\n",
    "frqs = np.asarray((unique, counts)).T\n",
    "print('test data: \\n', frqs)"
   ]
  },
  {
   "cell_type": "markdown",
   "metadata": {},
   "source": [
    "Models' validation"
   ]
  },
  {
   "cell_type": "markdown",
   "metadata": {},
   "source": [
    "Cuadratic discriminant analysis"
   ]
  },
  {
   "cell_type": "code",
   "execution_count": 74,
   "metadata": {},
   "outputs": [],
   "source": [
    "from sklearn.discriminant_analysis import QuadraticDiscriminantAnalysis\n",
    "import matplotlib.pyplot as plt\n",
    "from sklearn.model_selection import KFold\n",
    "from sklearn.preprocessing import StandardScaler\n",
    "from  sklearn.metrics import accuracy_score\n",
    "import time"
   ]
  },
  {
   "cell_type": "code",
   "execution_count": 79,
   "metadata": {},
   "outputs": [],
   "source": [
    "def train_quad_anal(n_comp, X, Y):\n",
    "\n",
    "    #Implemetamos la metodología de validación \n",
    "    Errores = np.ones(5)\n",
    "    times = np.ones(5)\n",
    "    j = 0\n",
    "    kf = KFold(n_splits=5)\n",
    "    for train_index, test_index in kf.split(X):  \n",
    "        X_train, X_test = X[train_index], X[test_index]\n",
    "        y_train, y_test = Y[train_index], Y[test_index]\n",
    "        \n",
    "        # ¿es necesario estandarizacion de datos?\n",
    "        scaler = StandardScaler()\n",
    "        X_train = scaler.fit_transform(X_train)\n",
    "        Y_train= scaler.fit_transform(y_train)\n",
    "        print(\"X_train\", X_train)\n",
    "        X_test = scaler.transform(X_test)\n",
    "        # dejar el nombre del objeto igual (lda)\n",
    "        qda = QuadraticDiscriminantAnalysis()\n",
    "        # para calcular costo computacional\n",
    "        tiempo_i = time.time()\n",
    "        # es recomendable usar el metodo que ajusta y transforma\n",
    "        X_train_qda = qda.fit(X_train, y_train)\n",
    "        # aca solo usar el metodo de transformar (ya que en el anterior el pca se ajusto)\n",
    "        X_test_qda= qda.fit(X=X_test,  y=y_test)\n",
    "        # entrenar el modelo usando las caractieristicas transformadas por PCA\n",
    "\n",
    "        tiempo_o = time.time()-tiempo_i\n",
    "        #print(\"X_train_qda= \", X_train_qda, \"\\n\", \"X_test_qda\", X_test_qda)\n",
    "        # Errores[j] = accuracy_score(y_true=y_test, y_pred=qda.predict(X_test_qda))\n",
    "        times[j] = tiempo_o\n",
    "        j+=1\n",
    "\n",
    "\n",
    "    return np.mean(Errores), np.std(Errores), np.mean(times)"
   ]
  },
  {
   "cell_type": "markdown",
   "metadata": {},
   "source": [
    "Parzen window"
   ]
  },
  {
   "cell_type": "code",
   "execution_count": null,
   "metadata": {},
   "outputs": [],
   "source": []
  }
 ],
 "metadata": {
  "kernelspec": {
   "display_name": "Python 3",
   "language": "python",
   "name": "python3"
  },
  "language_info": {
   "codemirror_mode": {
    "name": "ipython",
    "version": 3
   },
   "file_extension": ".py",
   "mimetype": "text/x-python",
   "name": "python",
   "nbconvert_exporter": "python",
   "pygments_lexer": "ipython3",
   "version": "3.8.5"
  }
 },
 "nbformat": 4,
 "nbformat_minor": 4
}
