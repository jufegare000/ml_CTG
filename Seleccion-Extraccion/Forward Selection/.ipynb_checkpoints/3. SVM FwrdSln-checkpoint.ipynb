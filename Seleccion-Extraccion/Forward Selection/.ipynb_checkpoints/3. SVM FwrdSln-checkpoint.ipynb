{
 "cells": [
  {
   "cell_type": "code",
   "execution_count": 44,
   "metadata": {},
   "outputs": [],
   "source": [
    "import sys; sys.path.append('./')\n",
    "from utils import Utils\n",
    "from sklearn.multiclass import OneVsRestClassifier\n",
    "from sklearn.svm import SVC\n",
    "from sklearn.model_selection import StratifiedKFold"
   ]
  },
  {
   "cell_type": "code",
   "execution_count": 45,
   "metadata": {},
   "outputs": [],
   "source": [
    "ut = Utils()\n",
    "X, Y = ut.get_matrixes()"
   ]
  },
  {
   "cell_type": "code",
   "execution_count": 46,
   "metadata": {},
   "outputs": [],
   "source": [
    "#ejercicio de código\n",
    "def entrenamiento_sin_seleccion_caracteristicas(X, Y):\n",
    "    EficienciaTrain = []\n",
    "    EficienciaVal = []\n",
    "    f1 = [] \n",
    "    gmean =[]\n",
    "    kf = StratifiedKFold(n_splits=4)\n",
    "    for train, test in kf.split(X, Y):\n",
    "        Xtrain, Ytrain, Xtest, Ytest = ut.get_training_test(X=X, Y=Y, train=train, test=test)\n",
    "        \n",
    "        clf = OneVsRestClassifier(SVC(C=100,kernel='rbf', gamma=0.10, probability=True)).fit(Xtrain, Ytrain)\n",
    "\n",
    "        f1_score_current, gmean_current, eficiencia_train_current, eficiencia_test_current = ut.get_metrics(model=model, X_train=Xtrain, X_test=Xtest, y_train=Ytrain, Ytest=Ytest)\n",
    "        EficienciaVal.append(eficiencia_test_current)\n",
    "        gmean.append(gmean_current)           \n",
    "        f1.append(f1_score_current)\n",
    "                                \n",
    "\n",
    "    f1_ = np.mean(f1)\n",
    "    f1_std = np.std(f1)\n",
    "    gmean_ = np.mean(gmean)\n",
    "    gmean_std = np.std(gmean)\n",
    "    EficienciaVal_ = np.mean(EficienciaVal)\n",
    "    EficienciaVal_std = np.std(EficienciaVal)\n",
    "    EficienciaTrain_ = np.mean(EficienciaTrain)\n",
    "    Eficienciatrain_std = np.std(EficienciaTrain)\n",
    "    \n",
    "    print(\"F1STD= \" + str(f1_std))\n",
    "    \n",
    "    \n",
    "    return clf, f1_, f1_std, gmean_, gmean_std, EficienciaVal_, EficienciaVal_std, EficienciaTrain_, Eficienciatrain_std"
   ]
  },
  {
   "cell_type": "code",
   "execution_count": 49,
   "metadata": {},
   "outputs": [
    {
     "ename": "IndentationError",
     "evalue": "unexpected indent (<ipython-input-49-b1e0fecf830e>, line 44)",
     "output_type": "error",
     "traceback": [
      "\u001b[0;36m  File \u001b[0;32m\"<ipython-input-49-b1e0fecf830e>\"\u001b[0;36m, line \u001b[0;32m44\u001b[0m\n\u001b[0;31m    df.loc[idx,'CON_SEL'] = 'SI'\u001b[0m\n\u001b[0m    ^\u001b[0m\n\u001b[0;31mIndentationError\u001b[0m\u001b[0;31m:\u001b[0m unexpected indent\n"
     ]
    }
   ],
   "source": [
    "#ejercicio de código\n",
    "def experimentar(n_feats, n_sets, X, Y):\n",
    "\n",
    "    df = pd.DataFrame()\n",
    "    idx = 0\n",
    "    for split_number in n_sets:\n",
    "        clf, f1_, f1_std, gmean_, gmean_std, EficienciaVal_, EficienciaVal_std, EficienciaTrain_, Eficienciatrain_std = entrenamiento_sin_seleccion_caracteristicas(X,Y)        \n",
    "        df.loc[idx,'CON_SEL'] = 'NO'\n",
    "        df.loc[idx,'NUM_VAR'] = X.shape[1]\n",
    "        df.loc[idx,'NUM_SPLITS'] = split_number\n",
    "        df.loc[idx,'F1 Score'] = f1_\n",
    "        df.loc[idx,'F1 Score IC'] = f1_std\n",
    "        df.loc[idx,'Gmean'] = gmean_\n",
    "        df.loc[idx,'Gmean IC'] = gmean_std\n",
    "        df.loc[idx,'Eficiencia Test'] = EficienciaVal_\n",
    "        df.loc[idx,'Eficiencia Test IC'] = EficienciaVal_std\n",
    "        df.loc[idx,'Eficiencia Train'] = EficienciaTrain_\n",
    "        df.loc[idx,'Eficiencia Train IC'] = Eficienciatrain_std\n",
    "        idx+=1\n",
    "    print(\"termina experimentos sin selección\")\n",
    "    #Con selección de características\n",
    "    \n",
    "    for f in n_feats:\n",
    "        for split_number in n_sets:\n",
    "            #Implemetamos la metodología de validación \n",
    "            EficienciaTrain = []\n",
    "            EficienciaVal = []\n",
    "            f1 = [] \n",
    "            gmean =[]\n",
    "            kf = StratifiedKFold(n_splits=split_number)\n",
    "            for train_index, test_index in kf.split(X, Y):\n",
    "                Xtrain, Xtest = X[train_index], X[test_index]\n",
    "                Ytrain, Ytest = Y[train_index], Y[test_index]\n",
    "                \n",
    "                clf = OneVsRestClassifier(SVC(C=100,kernel='rbf', gamma=0.10, probability=True)).fit(Xtrain, Ytrain)\n",
    "                rfe, _, _, _ = ut.recursive_feature_elimination_wrapper(estimator=clf,feature_numbers=f, X=Xtrain,Y=Ytrain)             \n",
    "\n",
    "                f1_score_current, gmean_current, eficiencia_train_current, eficiencia_test_current = ut.get_metrics(model=clf, X_train=Xtrain, X_test=Xtest, y_train=Ytrain, Ytest=Ytest)\n",
    "\n",
    "                EficienciaTrain.append(eficiencia_train_current)\n",
    "                EficienciaVal.append(eficiencia_test_current)\n",
    "                f1.append(f1_score_current)\n",
    "                gmean.append(gmean_current)\n",
    "                \n",
    "            df.loc[idx,'CON_SEL'] = 'SI'\n",
    "            df.loc[idx,'NUM_VAR'] = f\n",
    "            df.loc[idx,'NUM_SPLITS'] = split_number\n",
    "            df.loc[idx,'F1 Score'] = np.mean(f1)\n",
    "            df.loc[idx, 'F1 Score IC'] = np.std(f1)\n",
    "            df.loc[idx, 'Gmean'] = np.mean(gmean)\n",
    "            df.loc[idx, 'Gmean IC'] = np.std(gmean)\n",
    "            df.loc[idx, 'Eficiencia Test'] = np.mean(EficienciaVal)\n",
    "            df.loc[idx, 'Eficiencia Test IC'] = np.std(EficienciaVal)\n",
    "            df.loc[idx, 'Eficiencia Train'] = np.mean(EficienciaTrain)\n",
    "            df.loc[idx, 'Eficiencia Train IC'] = np.std(EficienciaTrain)\n",
    "            idx+=1\n",
    "    return df"
   ]
  },
  {
   "cell_type": "code",
   "execution_count": null,
   "metadata": {},
   "outputs": [],
   "source": []
  },
  {
   "cell_type": "code",
   "execution_count": null,
   "metadata": {},
   "outputs": [],
   "source": []
  }
 ],
 "metadata": {
  "kernelspec": {
   "display_name": "Python 3",
   "language": "python",
   "name": "python3"
  },
  "language_info": {
   "codemirror_mode": {
    "name": "ipython",
    "version": 3
   },
   "file_extension": ".py",
   "mimetype": "text/x-python",
   "name": "python",
   "nbconvert_exporter": "python",
   "pygments_lexer": "ipython3",
   "version": "3.8.5"
  }
 },
 "nbformat": 4,
 "nbformat_minor": 4
}
