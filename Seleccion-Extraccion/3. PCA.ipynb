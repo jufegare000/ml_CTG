{
 "cells": [
  {
   "cell_type": "code",
   "execution_count": 1,
   "metadata": {},
   "outputs": [],
   "source": [
    "import pandas as pd\n",
    "import numpy as np\n",
    "from IPython.display import display_html\n",
    "from sklearn.model_selection import train_test_split\n",
    "from mlxtend.preprocessing import standardize\n",
    "from sklearn.decomposition import PCA\n",
    "import matplotlib.pyplot as plt\n",
    "from sklearn.discriminant_analysis import LinearDiscriminantAnalysis\n",
    "import sys; sys.path.append('./Feature Selection')\n",
    "from sklearn.ensemble import GradientBoostingClassifier\n",
    "from sklearn.metrics import plot_confusion_matrix\n",
    "from utils import Utils\n",
    "from sklearn.model_selection import StratifiedKFold\n",
    "from sklearn.neural_network import MLPClassifier\n",
    "from sklearn.svm import SVC\n",
    "from sklearn.multiclass import OneVsRestClassifier"
   ]
  },
  {
   "cell_type": "code",
   "execution_count": 2,
   "metadata": {},
   "outputs": [],
   "source": [
    "ut = Utils()"
   ]
  },
  {
   "cell_type": "code",
   "execution_count": 3,
   "metadata": {
    "scrolled": true
   },
   "outputs": [],
   "source": [
    "df = pd.read_csv('../data/CTGsmt with titles.csv')\n",
    "dataset = df.copy()\n",
    "dataset.head(2)\n",
    "df_sorted = df.sort_values(by=['NSP'])"
   ]
  },
  {
   "cell_type": "code",
   "execution_count": 4,
   "metadata": {},
   "outputs": [
    {
     "data": {
      "text/html": [
       "<div>\n",
       "<style scoped>\n",
       "    .dataframe tbody tr th:only-of-type {\n",
       "        vertical-align: middle;\n",
       "    }\n",
       "\n",
       "    .dataframe tbody tr th {\n",
       "        vertical-align: top;\n",
       "    }\n",
       "\n",
       "    .dataframe thead th {\n",
       "        text-align: right;\n",
       "    }\n",
       "</style>\n",
       "<table border=\"1\" class=\"dataframe\">\n",
       "  <thead>\n",
       "    <tr style=\"text-align: right;\">\n",
       "      <th></th>\n",
       "      <th>LBE</th>\n",
       "      <th>LB</th>\n",
       "      <th>AC</th>\n",
       "      <th>FM</th>\n",
       "      <th>UC</th>\n",
       "      <th>ASTV</th>\n",
       "      <th>MSTV</th>\n",
       "      <th>ALTV</th>\n",
       "      <th>MLTV</th>\n",
       "      <th>DL</th>\n",
       "      <th>...</th>\n",
       "      <th>Min</th>\n",
       "      <th>Max</th>\n",
       "      <th>Nmax</th>\n",
       "      <th>Nzeros</th>\n",
       "      <th>Mode</th>\n",
       "      <th>Mean</th>\n",
       "      <th>Median</th>\n",
       "      <th>Variance</th>\n",
       "      <th>Tendency</th>\n",
       "      <th>NSP</th>\n",
       "    </tr>\n",
       "  </thead>\n",
       "  <tbody>\n",
       "    <tr>\n",
       "      <th>1285</th>\n",
       "      <td>0.111111</td>\n",
       "      <td>0.111111</td>\n",
       "      <td>0.000000</td>\n",
       "      <td>0.000000</td>\n",
       "      <td>0.086957</td>\n",
       "      <td>0.186667</td>\n",
       "      <td>0.161765</td>\n",
       "      <td>0.000000</td>\n",
       "      <td>0.199211</td>\n",
       "      <td>0.000000</td>\n",
       "      <td>...</td>\n",
       "      <td>0.366972</td>\n",
       "      <td>0.043103</td>\n",
       "      <td>0.111111</td>\n",
       "      <td>0.100000</td>\n",
       "      <td>0.425197</td>\n",
       "      <td>0.376147</td>\n",
       "      <td>0.357798</td>\n",
       "      <td>0.007435</td>\n",
       "      <td>1.000000</td>\n",
       "      <td>1</td>\n",
       "    </tr>\n",
       "    <tr>\n",
       "      <th>1336</th>\n",
       "      <td>0.407407</td>\n",
       "      <td>0.407407</td>\n",
       "      <td>0.000000</td>\n",
       "      <td>0.010638</td>\n",
       "      <td>0.086957</td>\n",
       "      <td>0.133333</td>\n",
       "      <td>0.323529</td>\n",
       "      <td>0.000000</td>\n",
       "      <td>0.181460</td>\n",
       "      <td>0.187500</td>\n",
       "      <td>...</td>\n",
       "      <td>0.027523</td>\n",
       "      <td>0.482759</td>\n",
       "      <td>0.611111</td>\n",
       "      <td>0.000000</td>\n",
       "      <td>0.653543</td>\n",
       "      <td>0.440367</td>\n",
       "      <td>0.495413</td>\n",
       "      <td>0.375465</td>\n",
       "      <td>0.500000</td>\n",
       "      <td>1</td>\n",
       "    </tr>\n",
       "    <tr>\n",
       "      <th>1335</th>\n",
       "      <td>0.407407</td>\n",
       "      <td>0.407407</td>\n",
       "      <td>0.269231</td>\n",
       "      <td>0.019504</td>\n",
       "      <td>0.217391</td>\n",
       "      <td>0.133333</td>\n",
       "      <td>0.294118</td>\n",
       "      <td>0.000000</td>\n",
       "      <td>0.130178</td>\n",
       "      <td>0.312500</td>\n",
       "      <td>...</td>\n",
       "      <td>0.137615</td>\n",
       "      <td>0.448276</td>\n",
       "      <td>0.333333</td>\n",
       "      <td>0.000000</td>\n",
       "      <td>0.653543</td>\n",
       "      <td>0.495413</td>\n",
       "      <td>0.532110</td>\n",
       "      <td>0.263941</td>\n",
       "      <td>0.500000</td>\n",
       "      <td>1</td>\n",
       "    </tr>\n",
       "    <tr>\n",
       "      <th>1334</th>\n",
       "      <td>0.407407</td>\n",
       "      <td>0.407407</td>\n",
       "      <td>0.038462</td>\n",
       "      <td>0.003546</td>\n",
       "      <td>0.043478</td>\n",
       "      <td>0.026667</td>\n",
       "      <td>0.367647</td>\n",
       "      <td>0.000000</td>\n",
       "      <td>0.000000</td>\n",
       "      <td>0.125000</td>\n",
       "      <td>...</td>\n",
       "      <td>0.155963</td>\n",
       "      <td>0.293103</td>\n",
       "      <td>0.222222</td>\n",
       "      <td>0.000000</td>\n",
       "      <td>0.433071</td>\n",
       "      <td>0.385321</td>\n",
       "      <td>0.357798</td>\n",
       "      <td>0.163569</td>\n",
       "      <td>0.500000</td>\n",
       "      <td>1</td>\n",
       "    </tr>\n",
       "    <tr>\n",
       "      <th>1333</th>\n",
       "      <td>0.407407</td>\n",
       "      <td>0.407407</td>\n",
       "      <td>0.307692</td>\n",
       "      <td>0.014184</td>\n",
       "      <td>0.217391</td>\n",
       "      <td>0.120000</td>\n",
       "      <td>0.308824</td>\n",
       "      <td>0.000000</td>\n",
       "      <td>0.102564</td>\n",
       "      <td>0.437500</td>\n",
       "      <td>...</td>\n",
       "      <td>0.155963</td>\n",
       "      <td>0.448276</td>\n",
       "      <td>0.388889</td>\n",
       "      <td>0.000000</td>\n",
       "      <td>0.653543</td>\n",
       "      <td>0.486239</td>\n",
       "      <td>0.532110</td>\n",
       "      <td>0.282528</td>\n",
       "      <td>0.500000</td>\n",
       "      <td>1</td>\n",
       "    </tr>\n",
       "    <tr>\n",
       "      <th>...</th>\n",
       "      <td>...</td>\n",
       "      <td>...</td>\n",
       "      <td>...</td>\n",
       "      <td>...</td>\n",
       "      <td>...</td>\n",
       "      <td>...</td>\n",
       "      <td>...</td>\n",
       "      <td>...</td>\n",
       "      <td>...</td>\n",
       "      <td>...</td>\n",
       "      <td>...</td>\n",
       "      <td>...</td>\n",
       "      <td>...</td>\n",
       "      <td>...</td>\n",
       "      <td>...</td>\n",
       "      <td>...</td>\n",
       "      <td>...</td>\n",
       "      <td>...</td>\n",
       "      <td>...</td>\n",
       "      <td>...</td>\n",
       "      <td>...</td>\n",
       "    </tr>\n",
       "    <tr>\n",
       "      <th>3856</th>\n",
       "      <td>0.427914</td>\n",
       "      <td>0.427914</td>\n",
       "      <td>0.000000</td>\n",
       "      <td>0.001400</td>\n",
       "      <td>0.043478</td>\n",
       "      <td>0.781000</td>\n",
       "      <td>0.183478</td>\n",
       "      <td>0.011555</td>\n",
       "      <td>0.056410</td>\n",
       "      <td>0.148070</td>\n",
       "      <td>...</td>\n",
       "      <td>0.226012</td>\n",
       "      <td>0.177891</td>\n",
       "      <td>0.307108</td>\n",
       "      <td>0.000000</td>\n",
       "      <td>0.481971</td>\n",
       "      <td>0.406071</td>\n",
       "      <td>0.400283</td>\n",
       "      <td>0.046381</td>\n",
       "      <td>0.605147</td>\n",
       "      <td>3</td>\n",
       "    </tr>\n",
       "    <tr>\n",
       "      <th>3855</th>\n",
       "      <td>0.426067</td>\n",
       "      <td>0.426067</td>\n",
       "      <td>0.007751</td>\n",
       "      <td>0.026899</td>\n",
       "      <td>0.174244</td>\n",
       "      <td>0.315337</td>\n",
       "      <td>0.294118</td>\n",
       "      <td>0.000000</td>\n",
       "      <td>0.113393</td>\n",
       "      <td>0.200095</td>\n",
       "      <td>...</td>\n",
       "      <td>0.033000</td>\n",
       "      <td>0.639471</td>\n",
       "      <td>0.677016</td>\n",
       "      <td>0.000000</td>\n",
       "      <td>0.536960</td>\n",
       "      <td>0.298985</td>\n",
       "      <td>0.401611</td>\n",
       "      <td>0.459412</td>\n",
       "      <td>0.500000</td>\n",
       "      <td>3</td>\n",
       "    </tr>\n",
       "    <tr>\n",
       "      <th>3854</th>\n",
       "      <td>0.074074</td>\n",
       "      <td>0.074074</td>\n",
       "      <td>0.153846</td>\n",
       "      <td>0.000456</td>\n",
       "      <td>0.347826</td>\n",
       "      <td>0.746667</td>\n",
       "      <td>0.413657</td>\n",
       "      <td>0.000000</td>\n",
       "      <td>0.000000</td>\n",
       "      <td>0.399123</td>\n",
       "      <td>...</td>\n",
       "      <td>0.091743</td>\n",
       "      <td>0.612069</td>\n",
       "      <td>0.396036</td>\n",
       "      <td>0.000000</td>\n",
       "      <td>0.244094</td>\n",
       "      <td>0.123719</td>\n",
       "      <td>0.165138</td>\n",
       "      <td>0.152895</td>\n",
       "      <td>0.000000</td>\n",
       "      <td>3</td>\n",
       "    </tr>\n",
       "    <tr>\n",
       "      <th>3864</th>\n",
       "      <td>0.481481</td>\n",
       "      <td>0.481481</td>\n",
       "      <td>0.000000</td>\n",
       "      <td>0.000000</td>\n",
       "      <td>0.342104</td>\n",
       "      <td>0.266667</td>\n",
       "      <td>0.161765</td>\n",
       "      <td>0.000000</td>\n",
       "      <td>0.279300</td>\n",
       "      <td>0.058387</td>\n",
       "      <td>...</td>\n",
       "      <td>0.091743</td>\n",
       "      <td>0.241947</td>\n",
       "      <td>0.107455</td>\n",
       "      <td>0.286839</td>\n",
       "      <td>0.307087</td>\n",
       "      <td>0.403066</td>\n",
       "      <td>0.440367</td>\n",
       "      <td>0.229457</td>\n",
       "      <td>1.000000</td>\n",
       "      <td>3</td>\n",
       "    </tr>\n",
       "    <tr>\n",
       "      <th>4964</th>\n",
       "      <td>0.820466</td>\n",
       "      <td>0.820466</td>\n",
       "      <td>0.000000</td>\n",
       "      <td>0.001082</td>\n",
       "      <td>0.030211</td>\n",
       "      <td>0.920000</td>\n",
       "      <td>0.029412</td>\n",
       "      <td>0.223700</td>\n",
       "      <td>0.137030</td>\n",
       "      <td>0.000000</td>\n",
       "      <td>...</td>\n",
       "      <td>0.733945</td>\n",
       "      <td>0.421970</td>\n",
       "      <td>0.111111</td>\n",
       "      <td>0.000000</td>\n",
       "      <td>0.724409</td>\n",
       "      <td>0.712021</td>\n",
       "      <td>0.684498</td>\n",
       "      <td>0.003717</td>\n",
       "      <td>0.500000</td>\n",
       "      <td>3</td>\n",
       "    </tr>\n",
       "  </tbody>\n",
       "</table>\n",
       "<p>4965 rows × 24 columns</p>\n",
       "</div>"
      ],
      "text/plain": [
       "           LBE        LB        AC        FM        UC      ASTV      MSTV  \\\n",
       "1285  0.111111  0.111111  0.000000  0.000000  0.086957  0.186667  0.161765   \n",
       "1336  0.407407  0.407407  0.000000  0.010638  0.086957  0.133333  0.323529   \n",
       "1335  0.407407  0.407407  0.269231  0.019504  0.217391  0.133333  0.294118   \n",
       "1334  0.407407  0.407407  0.038462  0.003546  0.043478  0.026667  0.367647   \n",
       "1333  0.407407  0.407407  0.307692  0.014184  0.217391  0.120000  0.308824   \n",
       "...        ...       ...       ...       ...       ...       ...       ...   \n",
       "3856  0.427914  0.427914  0.000000  0.001400  0.043478  0.781000  0.183478   \n",
       "3855  0.426067  0.426067  0.007751  0.026899  0.174244  0.315337  0.294118   \n",
       "3854  0.074074  0.074074  0.153846  0.000456  0.347826  0.746667  0.413657   \n",
       "3864  0.481481  0.481481  0.000000  0.000000  0.342104  0.266667  0.161765   \n",
       "4964  0.820466  0.820466  0.000000  0.001082  0.030211  0.920000  0.029412   \n",
       "\n",
       "          ALTV      MLTV        DL  ...       Min       Max      Nmax  \\\n",
       "1285  0.000000  0.199211  0.000000  ...  0.366972  0.043103  0.111111   \n",
       "1336  0.000000  0.181460  0.187500  ...  0.027523  0.482759  0.611111   \n",
       "1335  0.000000  0.130178  0.312500  ...  0.137615  0.448276  0.333333   \n",
       "1334  0.000000  0.000000  0.125000  ...  0.155963  0.293103  0.222222   \n",
       "1333  0.000000  0.102564  0.437500  ...  0.155963  0.448276  0.388889   \n",
       "...        ...       ...       ...  ...       ...       ...       ...   \n",
       "3856  0.011555  0.056410  0.148070  ...  0.226012  0.177891  0.307108   \n",
       "3855  0.000000  0.113393  0.200095  ...  0.033000  0.639471  0.677016   \n",
       "3854  0.000000  0.000000  0.399123  ...  0.091743  0.612069  0.396036   \n",
       "3864  0.000000  0.279300  0.058387  ...  0.091743  0.241947  0.107455   \n",
       "4964  0.223700  0.137030  0.000000  ...  0.733945  0.421970  0.111111   \n",
       "\n",
       "        Nzeros      Mode      Mean    Median  Variance  Tendency  NSP  \n",
       "1285  0.100000  0.425197  0.376147  0.357798  0.007435  1.000000    1  \n",
       "1336  0.000000  0.653543  0.440367  0.495413  0.375465  0.500000    1  \n",
       "1335  0.000000  0.653543  0.495413  0.532110  0.263941  0.500000    1  \n",
       "1334  0.000000  0.433071  0.385321  0.357798  0.163569  0.500000    1  \n",
       "1333  0.000000  0.653543  0.486239  0.532110  0.282528  0.500000    1  \n",
       "...        ...       ...       ...       ...       ...       ...  ...  \n",
       "3856  0.000000  0.481971  0.406071  0.400283  0.046381  0.605147    3  \n",
       "3855  0.000000  0.536960  0.298985  0.401611  0.459412  0.500000    3  \n",
       "3854  0.000000  0.244094  0.123719  0.165138  0.152895  0.000000    3  \n",
       "3864  0.286839  0.307087  0.403066  0.440367  0.229457  1.000000    3  \n",
       "4964  0.000000  0.724409  0.712021  0.684498  0.003717  0.500000    3  \n",
       "\n",
       "[4965 rows x 24 columns]"
      ]
     },
     "execution_count": 4,
     "metadata": {},
     "output_type": "execute_result"
    }
   ],
   "source": [
    "X = df_sorted.copy()\n",
    "X.drop(['NSP'], axis=1,  inplace=True)\n",
    "Y = dataset['NSP'].copy()\n",
    "df_sorted"
   ]
  },
  {
   "cell_type": "code",
   "execution_count": 5,
   "metadata": {},
   "outputs": [],
   "source": [
    "X_train, X_test, y_train, y_test = train_test_split(X, Y, test_size=0.25)\n",
    "pca = PCA()\n",
    "X_train_pca = pca.fit_transform(X_train)\n",
    "X_test_pca = pca.transform(X_test)"
   ]
  },
  {
   "cell_type": "code",
   "execution_count": 6,
   "metadata": {},
   "outputs": [
    {
     "data": {
      "text/plain": [
       "<matplotlib.collections.PathCollection at 0x7f3f937a4eb0>"
      ]
     },
     "execution_count": 6,
     "metadata": {},
     "output_type": "execute_result"
    },
    {
     "data": {
      "image/png": "[encoded data removed]",
      "text/plain": [
       "<Figure size 576x288 with 1 Axes>"
      ]
     },
     "metadata": {
      "needs_background": "light"
     },
     "output_type": "display_data"
    }
   ],
   "source": [
    "#PCA\n",
    "pca = PCA(n_components=20)\n",
    "pca.fit(X, Y)\n",
    "transformada_PCA = pca.fit_transform(X, Y)\n",
    "\n",
    "fig = plt.figure(figsize = (8,4))\n",
    "plt.xlabel(\"Principal Component 1\")\n",
    "plt.ylabel(\"Principal Component 2\")\n",
    "plt.title(\"Componentes PCA\")\n",
    "x_pca=transformada_PCA[:,0]\n",
    "y_pca=transformada_PCA[:,1]\n",
    "plt.scatter(x_pca[0:1654],y_pca[0:1654], color = 'y', label='high emotions')\n",
    "plt.scatter(x_pca[1655:3308],y_pca[1655:3308], color = 'g')\n",
    "plt.scatter(x_pca[3309:4962],y_pca[3309:4962], color = 'b')"
   ]
  },
  {
   "cell_type": "code",
   "execution_count": 7,
   "metadata": {},
   "outputs": [
    {
     "data": {
      "image/png": "[encoded data removed]",
      "text/plain": [
       "<Figure size 432x288 with 1 Axes>"
      ]
     },
     "metadata": {
      "needs_background": "light"
     },
     "output_type": "display_data"
    }
   ],
   "source": [
    "plt.plot(np.cumsum(pca.explained_variance_/np.sum(pca.explained_variance_)))\n",
    "plt.title('Varianza acumulada')\n",
    "plt.xlabel('Componentes principales')\n",
    "plt.ylabel('Porcentaje de varianza acumulada')\n",
    "plt.grid()"
   ]
  },
  {
   "cell_type": "code",
   "execution_count": 8,
   "metadata": {},
   "outputs": [
    {
     "data": {
      "image/png": "[encoded data removed]",
      "text/plain": [
       "<Figure size 432x288 with 1 Axes>"
      ]
     },
     "metadata": {
      "needs_background": "light"
     },
     "output_type": "display_data"
    }
   ],
   "source": [
    "plt.plot(pca.explained_variance_);"
   ]
  },
  {
   "cell_type": "code",
   "execution_count": 9,
   "metadata": {},
   "outputs": [
    {
     "data": {
      "text/plain": [
       "(4965, 20)"
      ]
     },
     "execution_count": 9,
     "metadata": {},
     "output_type": "execute_result"
    }
   ],
   "source": [
    "transformada_PCA.shape\n"
   ]
  },
  {
   "cell_type": "code",
   "execution_count": 13,
   "metadata": {},
   "outputs": [],
   "source": [
    "# train gradient boosting tree with PCA"
   ]
  },
  {
   "cell_type": "code",
   "execution_count": 24,
   "metadata": {},
   "outputs": [],
   "source": [
    "def experimentar_gbt(num_trees, X, Y):\n",
    "    \"\"\"funcion que realiza experimentos de arboles de decision\n",
    "    num_trees: list[int] lista con el número de arboles usado para el RF\n",
    "    X: matriz con las caractersiticas\n",
    "    Y: matriz de numpy con etiquetas\n",
    "    retorna: dataframe con:\n",
    "        - numero de arboles usados\n",
    "        - eficiencia de entrenamiento\n",
    "        - desviacion de estandar eficiencia de entrenamiento\n",
    "        - eficiencia de prueba\n",
    "        - desviacion estandar eficiencia de prueba\n",
    "    \"\"\"\n",
    "    folds = 4\n",
    "    skf = StratifiedKFold(n_splits=folds)\n",
    "    resultados = pd.DataFrame()\n",
    "    idx = 0\n",
    "    for trees in num_trees:\n",
    "        ## para almacenar los errores intermedios\n",
    "        EficienciaTrain = []\n",
    "        EficienciaVal = []\n",
    "        f1 = [] \n",
    "        gmean =[]\n",
    "        X_train, X_test, y_train, y_test = train_test_split(X, Y, test_size=0.25)\n",
    "        for train, test in skf.split(X, Y):\n",
    "            Xtrain, Ytrain, Xtest, Ytest = ut.get_training_test(X=X, Y=Y, train=train, test=test)\n",
    "            #Haga el llamado a la función para crear y entrenar el modelo usando los datos de entrenamiento\n",
    "            modelo= GradientBoostingClassifier(n_estimators=trees)\n",
    "            modelo.fit(Xtrain, Ytrain)\n",
    "            f1_score_current, gmean_current, eficiencia_train_current, eficiencia_test_current = ut.get_metrics(model=modelo, X_train=Xtrain, X_test=Xtest, y_train=Ytrain, Ytest=Ytest)\n",
    "            #Evaluamos las predicciones del modelo con los datos de test\n",
    "            EficienciaTrain.append(eficiencia_train_current)\n",
    "            EficienciaVal.append(eficiencia_test_current)\n",
    "            gmean.append(gmean_current)           \n",
    "            f1.append(f1_score_current)\n",
    "\n",
    "        resultados.loc[idx,'número de arboles'] = trees\n",
    "        resultados.loc[idx,'F1 Score'] = np.mean(f1)\n",
    "        resultados.loc[idx,'F1 Score IC'] = np.std(f1)\n",
    "        resultados.loc[idx,'GMEAN'] = np.mean(gmean)\n",
    "        resultados.loc[idx,'GMEAN IC'] = np.std(gmean)\n",
    "        resultados.loc[idx,'Eficiencia Train'] = np.mean(EficienciaTrain)\n",
    "        resultados.loc[idx,'Eficiencia Train IC'] = np.std(EficienciaTrain)\n",
    "        resultados.loc[idx,'eficiencia de prueba'] = np.mean(EficienciaVal)\n",
    "        resultados.loc[idx,'eficiencia prueba IC'] = np.std(EficienciaVal)\n",
    "        idx= idx +1\n",
    "        \n",
    "    return (resultados)"
   ]
  },
  {
   "cell_type": "code",
   "execution_count": 25,
   "metadata": {},
   "outputs": [],
   "source": [
    "X_train, X_test, y_train, y_test = train_test_split(transformada_PCA, Y, test_size=0.25)\n",
    "X_train_pca = pca.fit_transform(X=X_train)\n",
    "X_test_pca = pca.transform(X=X_test)"
   ]
  },
  {
   "cell_type": "code",
   "execution_count": 27,
   "metadata": {},
   "outputs": [
    {
     "data": {
      "text/plain": [
       "<sklearn.metrics._plot.confusion_matrix.ConfusionMatrixDisplay at 0x7fefa2dc7af0>"
      ]
     },
     "execution_count": 27,
     "metadata": {},
     "output_type": "execute_result"
    },
    {
     "data": {
      "image/png": "[encoded data removed]",
      "text/plain": [
       "<Figure size 432x288 with 2 Axes>"
      ]
     },
     "metadata": {
      "needs_background": "light"
     },
     "output_type": "display_data"
    }
   ],
   "source": [
    "clf = GradientBoostingClassifier(n_estimators=200)\n",
    "clf.fit(X_train_pca, y_train)\n",
    "plot_confusion_matrix(clf,X=X_test_pca, y_true=y_test,normalize='true')"
   ]
  },
  {
   "cell_type": "code",
   "execution_count": 42,
   "metadata": {},
   "outputs": [],
   "source": [
    "X = X.to_numpy()"
   ]
  },
  {
   "cell_type": "code",
   "execution_count": 14,
   "metadata": {},
   "outputs": [
    {
     "data": {
      "text/plain": [
       "(4965, 20)"
      ]
     },
     "execution_count": 14,
     "metadata": {},
     "output_type": "execute_result"
    }
   ],
   "source": [
    "transformada_PCA.shape"
   ]
  },
  {
   "cell_type": "code",
   "execution_count": 29,
   "metadata": {},
   "outputs": [
    {
     "data": {
      "text/html": [
       "<div>\n",
       "<style scoped>\n",
       "    .dataframe tbody tr th:only-of-type {\n",
       "        vertical-align: middle;\n",
       "    }\n",
       "\n",
       "    .dataframe tbody tr th {\n",
       "        vertical-align: top;\n",
       "    }\n",
       "\n",
       "    .dataframe thead th {\n",
       "        text-align: right;\n",
       "    }\n",
       "</style>\n",
       "<table border=\"1\" class=\"dataframe\">\n",
       "  <thead>\n",
       "    <tr style=\"text-align: right;\">\n",
       "      <th></th>\n",
       "      <th>número de arboles</th>\n",
       "      <th>F1 Score</th>\n",
       "      <th>F1 Score IC</th>\n",
       "      <th>GMEAN</th>\n",
       "      <th>GMEAN IC</th>\n",
       "      <th>Eficiencia Train</th>\n",
       "      <th>Eficiencia Train IC</th>\n",
       "      <th>eficiencia de prueba</th>\n",
       "      <th>eficiencia prueba IC</th>\n",
       "    </tr>\n",
       "  </thead>\n",
       "  <tbody>\n",
       "    <tr>\n",
       "      <th>0</th>\n",
       "      <td>5.0</td>\n",
       "      <td>0.638761</td>\n",
       "      <td>0.138901</td>\n",
       "      <td>0.728905</td>\n",
       "      <td>0.099775</td>\n",
       "      <td>0.703729</td>\n",
       "      <td>0.043398</td>\n",
       "      <td>0.647351</td>\n",
       "      <td>0.126692</td>\n",
       "    </tr>\n",
       "    <tr>\n",
       "      <th>1</th>\n",
       "      <td>150.0</td>\n",
       "      <td>0.667947</td>\n",
       "      <td>0.141669</td>\n",
       "      <td>0.761995</td>\n",
       "      <td>0.092591</td>\n",
       "      <td>0.847065</td>\n",
       "      <td>0.044056</td>\n",
       "      <td>0.689243</td>\n",
       "      <td>0.118577</td>\n",
       "    </tr>\n",
       "    <tr>\n",
       "      <th>2</th>\n",
       "      <td>200.0</td>\n",
       "      <td>0.665019</td>\n",
       "      <td>0.138332</td>\n",
       "      <td>0.759839</td>\n",
       "      <td>0.090390</td>\n",
       "      <td>0.870294</td>\n",
       "      <td>0.037759</td>\n",
       "      <td>0.686422</td>\n",
       "      <td>0.115707</td>\n",
       "    </tr>\n",
       "  </tbody>\n",
       "</table>\n",
       "</div>"
      ],
      "text/plain": [
       "   número de arboles  F1 Score  F1 Score IC     GMEAN  GMEAN IC  \\\n",
       "0                5.0  0.638761     0.138901  0.728905  0.099775   \n",
       "1              150.0  0.667947     0.141669  0.761995  0.092591   \n",
       "2              200.0  0.665019     0.138332  0.759839  0.090390   \n",
       "\n",
       "   Eficiencia Train  Eficiencia Train IC  eficiencia de prueba  \\\n",
       "0          0.703729             0.043398              0.647351   \n",
       "1          0.847065             0.044056              0.689243   \n",
       "2          0.870294             0.037759              0.686422   \n",
       "\n",
       "   eficiencia prueba IC  \n",
       "0              0.126692  \n",
       "1              0.118577  \n",
       "2              0.115707  "
      ]
     },
     "execution_count": 29,
     "metadata": {},
     "output_type": "execute_result"
    }
   ],
   "source": [
    "arboles = [5,150, 200]\n",
    "resultados_gbt = experimentar_gbt(arboles, transformada_PCA, Y)\n",
    "resultados_gbt"
   ]
  },
  {
   "cell_type": "code",
   "execution_count": 53,
   "metadata": {},
   "outputs": [],
   "source": [
    "# MLP"
   ]
  },
  {
   "cell_type": "code",
   "execution_count": 30,
   "metadata": {},
   "outputs": [],
   "source": [
    "model = MLPClassifier(hidden_layer_sizes=(20,20, 20),activation = 'relu',max_iter=500)"
   ]
  },
  {
   "cell_type": "code",
   "execution_count": 31,
   "metadata": {},
   "outputs": [
    {
     "name": "stderr",
     "output_type": "stream",
     "text": [
      "/home/juan/simulation/simulation/lib/python3.8/site-packages/sklearn/neural_network/_multilayer_perceptron.py:582: ConvergenceWarning: Stochastic Optimizer: Maximum iterations (500) reached and the optimization hasn't converged yet.\n",
      "  warnings.warn(\n"
     ]
    },
    {
     "data": {
      "text/plain": [
       "<sklearn.metrics._plot.confusion_matrix.ConfusionMatrixDisplay at 0x7fefa2d1d040>"
      ]
     },
     "execution_count": 31,
     "metadata": {},
     "output_type": "execute_result"
    },
    {
     "data": {
      "image/png": "[encoded data removed]",
      "text/plain": [
       "<Figure size 432x288 with 2 Axes>"
      ]
     },
     "metadata": {
      "needs_background": "light"
     },
     "output_type": "display_data"
    }
   ],
   "source": [
    "model.fit(X_train_pca, y_train)\n",
    "plot_confusion_matrix(model,X=X_test_pca, y_true=y_test,normalize='true')"
   ]
  },
  {
   "cell_type": "code",
   "execution_count": 12,
   "metadata": {},
   "outputs": [],
   "source": [
    "def MLP(nCaps, neuronCaps):\n",
    "        #Validamos el modelo\n",
    "    Folds = 4\n",
    "    f1 = []\n",
    "    gmean = []\n",
    "    eficiencia_train = []\n",
    "    eficiencia_test = []\n",
    "    skf = StratifiedKFold(n_splits=Folds)\n",
    "    for train, test in skf.split(transformada_PCA, Y):\n",
    "        Xtrain, Ytrain, Xtest, Ytest = ut.get_training_test(X=transformada_PCA, Y=Y, train=train, test=test)\n",
    "\n",
    "        #Haga el llamado a la función para crear y entrenar el modelo usando los datos de entrenamiento\n",
    "        model = None;\n",
    "        if(nCaps == 1):\n",
    "            #Haga el llamado a la función para crear y entrenar el modelo usando los datos de entrenamiento\n",
    "            mlp = OneVsRestClassifier(MLPClassifier(hidden_layer_sizes = (neuronCaps), activation = 'relu', max_iter=500), n_jobs=-1).fit(Xtrain, Ytrain)\n",
    "        else:\n",
    "            mlp = OneVsRestClassifier(MLPClassifier(hidden_layer_sizes = (neuronCaps, neuronCaps), activation = 'tanh', max_iter=500), n_jobs=-1).fit(Xtrain, Ytrain)\n",
    "\n",
    "        f1_score_current, gmean_current, eficiencia_train_current, eficiencia_test_current = ut.get_metrics(mlp, Xtrain, Xtest, Ytrain, Ytest)\n",
    "        \n",
    "        f1.append(f1_score_current)\n",
    "        gmean.append(gmean_current)\n",
    "        eficiencia_train.append(eficiencia_train_current)\n",
    "        eficiencia_test.append(eficiencia_test_current)\n",
    "    \n",
    "    f1_mean, f1_ic, gmean_mean, gmean_ic, eficiencia_train_mean, eficiencia_train_ic, eficiencia_test_mean, eficiencia_test_ic = ut.get_means_and_ic(f1, gmean, eficiencia_train, eficiencia_test)\n",
    "\n",
    "    print(f\"Finalizado: {nCaps} capas y {neuronCaps} neuronas por capa\")\n",
    "    \n",
    "    return f1_mean, f1_ic, gmean_mean, gmean_ic, eficiencia_train_mean, eficiencia_train_ic, eficiencia_test_mean, eficiencia_test_ic"
   ]
  },
  {
   "cell_type": "code",
   "execution_count": 13,
   "metadata": {},
   "outputs": [],
   "source": [
    "randn = np.random.randn\n",
    "df_types = pd.DataFrame({\n",
    "    'N. de capas ocultas' : pd.Series([1,1,1,1,1,2,2,2,2,2,3,3,3,3,3]),\n",
    "    'Neuronas por capa' : pd.Series([20,24,28,32,36,20,24,28,32,36,20,24,28,32,36])})"
   ]
  },
  {
   "cell_type": "code",
   "execution_count": null,
   "metadata": {},
   "outputs": [
    {
     "name": "stdout",
     "output_type": "stream",
     "text": [
      "Finalizado: 1 capas y 20 neuronas por capa\n",
      "Finalizado: 1 capas y 24 neuronas por capa\n",
      "Finalizado: 1 capas y 28 neuronas por capa\n",
      "Finalizado: 1 capas y 32 neuronas por capa\n",
      "Finalizado: 1 capas y 36 neuronas por capa\n",
      "Finalizado: 2 capas y 20 neuronas por capa\n",
      "Finalizado: 2 capas y 24 neuronas por capa\n",
      "Finalizado: 2 capas y 28 neuronas por capa\n",
      "Finalizado: 2 capas y 32 neuronas por capa\n",
      "Finalizado: 2 capas y 36 neuronas por capa\n",
      "Finalizado: 3 capas y 20 neuronas por capa\n",
      "Finalizado: 3 capas y 24 neuronas por capa\n",
      "Finalizado: 3 capas y 28 neuronas por capa\n",
      "Finalizado: 3 capas y 32 neuronas por capa\n"
     ]
    }
   ],
   "source": [
    "f1 = []\n",
    "f1_ic = []\n",
    "gmean =[]\n",
    "gmean_ic = []\n",
    "efi_test = []\n",
    "efi_test_ic = []\n",
    "efi_train = []\n",
    "efi_train_ic = []\n",
    "for e, i in zip(df_types['N. de capas ocultas'], df_types['Neuronas por capa']):\n",
    "    f1_mean, f1_ic_, gmean_mean, gmean_ic_, eficiencia_train_mean, eficiencia_train_ic, eficiencia_test_mean, eficiencia_test_ic = MLP(e, i)\n",
    "    f1.append(f1_mean)\n",
    "    f1_ic.append(f1_ic_)\n",
    "    gmean.append(gmean_mean)\n",
    "    gmean_ic.append(gmean_ic_)\n",
    "    efi_test.append(eficiencia_test_mean)\n",
    "    efi_test_ic.append(eficiencia_test_ic)\n",
    "    efi_train.append(efi_train)\n",
    "    efi_train_ic.append(efi_train_ic)\n",
    "#maxi = np.array(meanPrueba).type()\n",
    "#print(f'Mejor Modelo: {}')0\n",
    "df_types[\"f1\"] = f1\n",
    "df_types[\"f1 IC\"] = f1_ic\n",
    "df_types[\"GMEAN\"] = gmean\n",
    "df_types[\"GMEAN IC\"] = gmean_ic\n",
    "df_types[\"Eficiencia Test\"] = efi_test\n",
    "df_types[\"Eficiencia Test IC\"] = efi_test_ic\n",
    "df_types[\"Eficiencia Train\"] = efi_train\n",
    "df_types[\"Eficiencia Train IC\"] = efi_train_ic\n",
    "df_types.set_index(['N. de capas ocultas','Neuronas por capa'], inplace=True)\n",
    "#df_types.sort_index(inplace=True)\n",
    "qgrid_widget = qgrid.show_grid(df_types, show_toolbar=False)\n",
    "qgrid_widget"
   ]
  },
  {
   "cell_type": "code",
   "execution_count": 34,
   "metadata": {},
   "outputs": [
    {
     "data": {
      "text/plain": [
       "<sklearn.metrics._plot.confusion_matrix.ConfusionMatrixDisplay at 0x7fefa2d1d070>"
      ]
     },
     "execution_count": 34,
     "metadata": {},
     "output_type": "execute_result"
    },
    {
     "data": {
      "image/png": "[encoded data removed]",
      "text/plain": [
       "<Figure size 432x288 with 2 Axes>"
      ]
     },
     "metadata": {
      "needs_background": "light"
     },
     "output_type": "display_data"
    }
   ],
   "source": [
    "manmodel = SVC(C=100,kernel='rbf', gamma=0.10, probability=True)\n",
    "model.fit(X_train_pca, y_train)\n",
    "plot_confusion_matrix(model,X=X_test_pca, y_true=y_test,normalize='true')"
   ]
  },
  {
   "cell_type": "code",
   "execution_count": null,
   "metadata": {},
   "outputs": [],
   "source": [
    "def train_svm(kernel, C, gamma):\n",
    "    Folds = 4\n",
    "    random.seed(19680801)\n",
    "    EficienciaTrain = []\n",
    "    EficienciaVal = []\n",
    "    skf = StratifiedKFold(n_splits=Folds)\n",
    "    porc_vectores = []\n",
    "    f1 = []\n",
    "    gmean = []\n",
    "    models = []\n",
    "    for train, test in skf.split(transformada_PCA, Y):\n",
    "        Xtrain, Ytrain, Xtest, Ytest = ut.get_training_test(transformada_PCA, Y, train, test)\n",
    "        #Haga el llamado a la función para crear y entrenar el modelo usando los datos de entrenamiento\n",
    "        model = SVC(C=C,kernel=kernel, gamma=gamma, probability=True)\n",
    "        model.fit(Xtrain, Ytrain)\n",
    "        models.append(model)\n",
    "        #Validación\n",
    "        f1_score_current, gmean_current, eficiencia_train_current, eficiencia_test_current = ut.get_metrics(model=model, X_train=Xtrain, X_test=Xtest, y_train=Ytrain, Ytest=Ytest)\n",
    "        gmean.append(gmean_current)\n",
    "        f1.append(f1_score_current)\n",
    "        EficienciaTrain.append(eficiencia_train_current)\n",
    "        EficienciaVal.append(eficiencia_test_current)\n",
    "    \n",
    "    f1_m = np.mean(f1)\n",
    "    f1_ic = np.std(f1)\n",
    "    gmean = np.mean(gmean)\n",
    "    gmean_ic = np.std(gmean)\n",
    "    efi_train = np.mean(EficienciaTrain)\n",
    "    efi_train_ic = np.std(EficienciaTrain)\n",
    "    efi_test = np.mean(EficienciaVal)\n",
    "    efi_test_ic = np.std(EficienciaVal)\n",
    "        \n",
    "    print(f\"Finalizado: {kernel} C: {C} gamma: {gamma}\")\n",
    "    \n",
    "    return f1_m, f1_ic, gmean, gmean_ic, efi_train, efi_train_ic, efi_test, efi_test_ic"
   ]
  },
  {
   "cell_type": "code",
   "execution_count": null,
   "metadata": {},
   "outputs": [],
   "source": [
    "import qgrid\n",
    "randn = np.random.randn\n",
    "df_types = pd.DataFrame({\n",
    "    'Kernel' : pd.Series(['lineal','lineal','lineal','lineal','lineal','lineal','rbf','rbf','rbf','rbf','rbf','rbf','rbf','rbf','rbf','rbf','rbf','rbf','rbf','rbf','rbf','rbf','rbf','rbf']),\n",
    "    'C' : pd.Series([0.001,0.01,0.1,1,10,100,0.001,0.001,0.001,0.01,0.01,0.01,0.1,0.1,0.1,1,1,1,10,10,10,100,100,100]),\n",
    "    'gamma' : pd.Series([0,0,0,0,0,0,0.01,0.1,1,0.01,0.1,1,0.01,0.1,1,0.01,0.1,1,0.01,0.1,1,0.01,0.1,1])})\n",
    "\n",
    "f1 = []\n",
    "stdf1 = []\n",
    "gmean =[]\n",
    "stdgmean = []\n",
    "efitrain = []\n",
    "eftrainstd = []\n",
    "efitest = []\n",
    "efiteststd = []\n",
    "for e, i, j in zip(df_types['Kernel'], df_types['C'], df_types['gamma']):\n",
    "    if(e == 'lineal'):\n",
    "        f1_m, f1_ic, gmean_, gmean_ic, efi_train_, efi_train_ic, efi_test, efi_test_ic = train_svm(\"linear\", i, \"auto\")\n",
    "    else:\n",
    "        f1_m, f1_ic, gmean_, gmean_ic, efi_train_, efi_train_ic, efi_test, efi_test_ic = train_svm(e, i, j)\n",
    "    f1.append(f1_m)\n",
    "    stdf1.append(f1_ic)\n",
    "    gmean.append(gmean_)\n",
    "    stdgmean.append(gmean_ic)\n",
    "    efitrain.append(efi_train_)\n",
    "    eftrainstd.append(efi_train_ic)\n",
    "    efitest.append(efi_test)\n",
    "    efiteststd.append(efi_train_ic)\n",
    "    \n",
    "df_types.set_index(['Kernel','C','gamma'], inplace=True)\n",
    "df_types[\"f1\"] = f1\n",
    "df_types[\"Intervalo de confianza f1\"] = stdf1\n",
    "df_types[\"G-mean\"] = gmean\n",
    "df_types[\"Intervalo de confianza G-mean\"] = stdgmean\n",
    "df_types[\"Eficiencia train\"] = efitrain\n",
    "df_types[\"Eficiencia train IC\"] = eftrainstd\n",
    "df_types[\"Eficiencia test\"] = efitest\n",
    "df_types[\"Eficiencia test IC\"] = efiteststd"
   ]
  }
 ],
 "metadata": {
  "kernelspec": {
   "display_name": "Python 3",
   "language": "python",
   "name": "python3"
  },
  "language_info": {
   "codemirror_mode": {
    "name": "ipython",
    "version": 3
   },
   "file_extension": ".py",
   "mimetype": "text/x-python",
   "name": "python",
   "nbconvert_exporter": "python",
   "pygments_lexer": "ipython3",
   "version": "3.8.5"
  }
 },
 "nbformat": 4,
 "nbformat_minor": 4
}
