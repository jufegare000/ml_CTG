{
 "cells": [
  {
   "cell_type": "code",
   "execution_count": 4,
   "metadata": {
    "scrolled": true
   },
   "outputs": [],
   "source": [
    "import pandas as pd\n",
    "import numpy as np\n",
    "from IPython.display import display_html\n",
    "from sklearn.model_selection import train_test_split\n",
    "from sklearn.multiclass import OneVsRestClassifier\n",
    "from mlxtend.feature_selection import SequentialFeatureSelector as SFS\n",
    "from utils import Utils\n",
    "from sklearn.ensemble import GradientBoostingClassifier\n",
    "import time\n",
    "from sklearn.model_selection import StratifiedKFold\n",
    "from sklearn.feature_selection import RFE\n",
    "from sklearn.metrics import plot_confusion_matrix\n",
    "import matplotlib.pyplot as plt"
   ]
  },
  {
   "cell_type": "code",
   "execution_count": 5,
   "metadata": {},
   "outputs": [],
   "source": [
    "ut = Utils()\n",
    "X, Y = ut.get_matrixes()"
   ]
  },
  {
   "cell_type": "code",
   "execution_count": 6,
   "metadata": {},
   "outputs": [],
   "source": [
    "#ejercicio de código\n",
    "def entrenamiento_sin_seleccion_caracteristicas(num_trees, X, Y):\n",
    "    \"\"\"\n",
    "    Función que ejecuta el entrenamiento del modelo sin una selección particular\n",
    "    de las características\n",
    "\n",
    "      Parámetros:splits : numero de particiones  a realizar\n",
    "      Retorna:\n",
    "      1. El modelo entreando\n",
    "      2. El vector de errores\n",
    "      3. El Intervalo de confianza\n",
    "      4. El tiempo de procesamiento\n",
    "    \"\"\"\n",
    "    #Implemetamos la metodología de validación\n",
    "    EficienciaTrain = []\n",
    "    EficienciaVal = []\n",
    "    f1 = [] \n",
    "    gmean =[]\n",
    "    j = 0\n",
    "    kf = StratifiedKFold(n_splits=4)\n",
    "    for train, test in kf.split(X, Y):\n",
    "        Xtrain, Ytrain, Xtest, Ytest = ut.get_training_test(X=X, Y=Y, train=train, test=test)\n",
    "        \n",
    "        #Creamos el clasificador SVM.\n",
    "        clf = GradientBoostingClassifier(n_estimators=num_trees)\n",
    "        clf.fit(Xtrain, Ytrain)\n",
    "        f1_score_current, gmean_current, eficiencia_train_current, eficiencia_test_current = ut.get_metrics(model=clf, X_train=Xtrain, X_test=Xtest, y_train=Ytrain, Ytest=Ytest)\n",
    "        tiempo_i = time.time()\n",
    "        EficienciaTrain.append(eficiencia_train_current)\n",
    "        EficienciaVal.append(eficiencia_test_current)\n",
    "        gmean.append(gmean_current)           \n",
    "        f1.append(f1_score_current)\n",
    "\n",
    "    f1_ = np.mean(f1)\n",
    "    f1_std = np.std(f1)\n",
    "    gmean_ = np.mean(gmean)\n",
    "    gmean_std = np.std(gmean)\n",
    "    EficienciaVal_ = np.mean(EficienciaVal)\n",
    "    EficienciaVal_std = np.std(EficienciaVal)\n",
    "    EficienciaTrain_ = np.mean(EficienciaTrain)\n",
    "    Eficienciatrain_std = np.std(EficienciaTrain)\n",
    "    \n",
    "    print(\"F1STD= \" + str(f1_std))\n",
    "    \n",
    "    \n",
    "    return clf, f1_, f1_std, gmean_, gmean_std, EficienciaVal_, EficienciaVal_std, EficienciaTrain_, Eficienciatrain_std"
   ]
  },
  {
   "cell_type": "code",
   "execution_count": 7,
   "metadata": {},
   "outputs": [],
   "source": [
    "#ejercicio de código\n",
    "def recursive_feature_elimination_wrapper(estimator, feature_numbers, X,Y):\n",
    "    \"\"\"\n",
    "    Esta función es un envoltorio del objeto RFE de sklearn\n",
    "\n",
    "    Parámetros:\n",
    "    estimator(sklearn.svm.SVC), El estimador SVM\n",
    "    feature_numbers(int), El número de características a considerar\n",
    "    X (numpy.array), El arreglo numpy de características\n",
    "    Y (numpy.array), El vector de etiquetas\n",
    "\n",
    "    Retorna:\n",
    "    El modelo entrenado ()\n",
    "    La máscara de características seleccionada, array [longitud de caracterisitcas de X]\n",
    "    El rankeo de características, array [longitud de caracterisitcas de X]\n",
    "    El objeto RFE entrenado sobre el set reducido de características\n",
    "    El tiempo de ejecución\n",
    "    \"\"\"\n",
    "    rfe = RFE(estimator=estimator, n_features_to_select=feature_numbers, step=1)\n",
    "    tiempo_i = time.time()\n",
    "    rfe.fit(X=X, y=Y)\n",
    "    time_o = time.time()-tiempo_i\n",
    "    feature_mask = rfe.support_\n",
    "    features_rank = rfe.ranking_\n",
    "    estimator = rfe.estimator_\n",
    "    return rfe, feature_mask, features_rank, estimator, time_o"
   ]
  },
  {
   "cell_type": "code",
   "execution_count": 8,
   "metadata": {
    "scrolled": true
   },
   "outputs": [],
   "source": [
    "#ejercicio de código\n",
    "def experimentar(n_feats, n_sets, X, Y):\n",
    "    \"\"\"\n",
    "    Esta función realiza la comparación del desempeño de RFE utilizando diferente \n",
    "    número de feats y particionando el conjunto de datos en diferente número de \n",
    "    subconjuntos\n",
    "\n",
    "    Parámetros:\n",
    "    X (numpy.array), El arreglo numpy de características\n",
    "    Y (numpy.array), El vector de etiquetas\n",
    "    n_feats, Vector de números enteros que indica el número de características\n",
    "              que debe utilizar el modelo\n",
    "    n_sets, Vector de números enteros que indica el número de particiones\n",
    "\n",
    "    Retorna:  \n",
    "    - DataFrame con las columnas: CON_SEL, NUM_VAR, NUM_SPLITS, ERROR_VALIDACION, IC_STD_VALIDACION, \n",
    "    y T_EJECUCION. \n",
    "\n",
    "    \"\"\"\n",
    "    df = pd.DataFrame()\n",
    "    idx = 0\n",
    "    for split_number in n_sets:\n",
    "        clf, f1_, f1_std, gmean_, gmean_std, EficienciaVal_, EficienciaVal_std, EficienciaTrain_, Eficienciatrain_std = entrenamiento_sin_seleccion_caracteristicas(split_number,X,Y)        \n",
    "        df.loc[idx,'CON_SEL'] = 'NO'\n",
    "        df.loc[idx,'NUM_VAR'] = X.shape[1]\n",
    "        df.loc[idx,'NUM_SPLITS'] = split_number\n",
    "        df.loc[idx,'F1 Score'] = f1_\n",
    "        df.loc[idx,'F1 Score IC'] = f1_std\n",
    "        df.loc[idx,'Gmean'] = gmean_\n",
    "        df.loc[idx,'Gmean IC'] = gmean_std\n",
    "        df.loc[idx,'Eficiencia Test'] = EficienciaVal_\n",
    "        df.loc[idx,'Eficiencia Test IC'] = EficienciaVal_std\n",
    "        df.loc[idx,'Eficiencia Train'] = EficienciaTrain_\n",
    "        df.loc[idx,'Eficiencia Train IC'] = Eficienciatrain_std\n",
    "        idx+=1\n",
    "    print(\"termina experimentos sin selección\")\n",
    "    #Con selección de características\n",
    "    \n",
    "    for f in n_feats:\n",
    "        for split_number in n_sets:\n",
    "            #Implemetamos la metodología de validación \n",
    "            EficienciaTrain = []\n",
    "            EficienciaVal = []\n",
    "            f1 = [] \n",
    "            gmean =[]\n",
    "            times = np.ones(split_number)\n",
    "            kf = StratifiedKFold(n_splits=split_number)\n",
    "            j = 0\n",
    "            for train_index, test_index in kf.split(X, Y):\n",
    "                \n",
    "                X_train, X_test = X[train_index], X[test_index]\n",
    "                y_train, y_test = Y[train_index], Y[test_index]\n",
    "                \n",
    "                clf =  GradientBoostingClassifier(n_estimators=50)\n",
    "                \n",
    "                # se ignorar las otras salidas\n",
    "                \n",
    "                rfe, _, _, _, t = recursive_feature_elimination_wrapper(estimator=clf,feature_numbers=f, X=X_train,Y=y_train)\n",
    "                                \n",
    "                \n",
    "                f1_score_current, gmean_current, eficiencia_train_current, eficiencia_test_current = ut.get_metrics(model=rfe, X_train=X_train, X_test=X_test, y_train=y_train, Ytest=y_test)\n",
    "                EficienciaTrain.append(eficiencia_train_current)\n",
    "                EficienciaVal.append(eficiencia_test_current)\n",
    "                f1.append(f1_score_current)\n",
    "                gmean.append(gmean_current)\n",
    "                times[j] = t\n",
    "                j+=1\n",
    "\n",
    "            df.loc[idx,'CON_SEL'] = 'SI'\n",
    "            df.loc[idx,'NUM_VAR'] = f\n",
    "            df.loc[idx,'NUM_SPLITS'] = split_number\n",
    "            df.loc[idx,'F1 Score'] = np.mean(f1)\n",
    "            df.loc[idx, 'F1 Score IC'] = np.std(f1)\n",
    "            df.loc[idx, 'Gmean'] = np.mean(gmean)\n",
    "            df.loc[idx, 'Gmean IC'] = np.std(gmean)\n",
    "            df.loc[idx, 'Eficiencia Test'] = np.mean(EficienciaVal)\n",
    "            df.loc[idx, 'Eficiencia Test IC'] = np.std(EficienciaVal)\n",
    "            df.loc[idx, 'Eficiencia Train'] = np.mean(EficienciaTrain)\n",
    "            df.loc[idx, 'Eficiencia Train IC'] = np.std(EficienciaTrain)\n",
    "            idx+=1\n",
    "    return df\n"
   ]
  },
  {
   "cell_type": "code",
   "execution_count": null,
   "metadata": {},
   "outputs": [
    {
     "name": "stdout",
     "output_type": "stream",
     "text": [
      "F1STD= 0.0394175824808097\n",
      "F1STD= 0.04176666015229993\n",
      "termina experimentos sin selección\n"
     ]
    }
   ],
   "source": [
    "dfr = experimentar(n_feats = [3, 5, 10,15,20], n_sets = [5, 10], X= X, Y=Y)"
   ]
  },
  {
   "cell_type": "code",
   "execution_count": null,
   "metadata": {},
   "outputs": [],
   "source": [
    "dfr"
   ]
  },
  {
   "cell_type": "code",
   "execution_count": 8,
   "metadata": {},
   "outputs": [],
   "source": [
    "X_train, X_test, y_train, y_test = ut.get_train_test()"
   ]
  },
  {
   "cell_type": "code",
   "execution_count": 9,
   "metadata": {},
   "outputs": [],
   "source": [
    "clf =  GradientBoostingClassifier(n_estimators=50)"
   ]
  },
  {
   "cell_type": "code",
   "execution_count": 10,
   "metadata": {},
   "outputs": [],
   "source": [
    "rfe, feature_mask, features_rank, estimator, time_o = recursive_feature_elimination_wrapper(estimator=clf,feature_numbers=20, X=X_train,Y=y_train)"
   ]
  },
  {
   "cell_type": "code",
   "execution_count": 11,
   "metadata": {},
   "outputs": [
    {
     "data": {
      "text/plain": [
       "<sklearn.metrics._plot.confusion_matrix.ConfusionMatrixDisplay at 0x7fc3142540d0>"
      ]
     },
     "execution_count": 11,
     "metadata": {},
     "output_type": "execute_result"
    },
    {
     "data": {
      "image/png": "[encoded data removed]",
      "text/plain": [
       "<Figure size 432x288 with 2 Axes>"
      ]
     },
     "metadata": {
      "needs_background": "light"
     },
     "output_type": "display_data"
    }
   ],
   "source": [
    "plot_confusion_matrix(rfe,X=X_test, y_true=y_test,normalize='true', cmap=plt.cm.Blues)"
   ]
  },
  {
   "cell_type": "code",
   "execution_count": 12,
   "metadata": {},
   "outputs": [
    {
     "data": {
      "text/plain": [
       "array([ True,  True,  True,  True,  True,  True,  True,  True,  True,\n",
       "        True, False,  True, False,  True,  True,  True,  True,  True,\n",
       "        True,  True,  True,  True])"
      ]
     },
     "execution_count": 12,
     "metadata": {},
     "output_type": "execute_result"
    }
   ],
   "source": [
    "feature_mask"
   ]
  },
  {
   "cell_type": "code",
   "execution_count": 13,
   "metadata": {},
   "outputs": [
    {
     "data": {
      "text/plain": [
       "array([1, 1, 1, 1, 1, 1, 1, 1, 1, 1, 3, 1, 2, 1, 1, 1, 1, 1, 1, 1, 1, 1])"
      ]
     },
     "execution_count": 13,
     "metadata": {},
     "output_type": "execute_result"
    }
   ],
   "source": [
    "features_rank"
   ]
  },
  {
   "cell_type": "code",
   "execution_count": 3,
   "metadata": {},
   "outputs": [
    {
     "data": {
      "text/plain": [
       "(4965, 23)"
      ]
     },
     "execution_count": 3,
     "metadata": {},
     "output_type": "execute_result"
    }
   ],
   "source": [
    "X.shape"
   ]
  },
  {
   "cell_type": "code",
   "execution_count": null,
   "metadata": {},
   "outputs": [],
   "source": []
  }
 ],
 "metadata": {
  "kernelspec": {
   "display_name": "Python 3",
   "language": "python",
   "name": "python3"
  },
  "language_info": {
   "codemirror_mode": {
    "name": "ipython",
    "version": 3
   },
   "file_extension": ".py",
   "mimetype": "text/x-python",
   "name": "python",
   "nbconvert_exporter": "python",
   "pygments_lexer": "ipython3",
   "version": "3.8.5"
  }
 },
 "nbformat": 4,
 "nbformat_minor": 4
}
