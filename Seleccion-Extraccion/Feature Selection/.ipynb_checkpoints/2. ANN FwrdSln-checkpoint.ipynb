{
 "cells": [
  {
   "cell_type": "code",
   "execution_count": 1,
   "metadata": {},
   "outputs": [],
   "source": [
    "import numpy as np\n",
    "import matplotlib.pyplot as plt\n",
    "from sklearn.multiclass import OneVsRestClassifier\n",
    "import pandas as pd\n",
    "from sklearn.neural_network import MLPClassifier\n",
    "from numpy import random\n",
    "from sklearn.model_selection import StratifiedKFold\n",
    "from sklearn import preprocessing\n",
    "from numpy import matlib\n",
    "import qgrid\n",
    "from sklearn.model_selection import train_test_split\n",
    "from imblearn.metrics import geometric_mean_score\n",
    "from sklearn.metrics import f1_score\n",
    "from sklearn.metrics import plot_confusion_matrix\n",
    "import sys; sys.path.append('./')\n",
    "from utils import Utils\n",
    "from mlxtend.feature_selection import SequentialFeatureSelector as SFS\n",
    "import time"
   ]
  },
  {
   "cell_type": "code",
   "execution_count": 2,
   "metadata": {},
   "outputs": [],
   "source": [
    "ut = Utils()"
   ]
  },
  {
   "cell_type": "code",
   "execution_count": 3,
   "metadata": {},
   "outputs": [],
   "source": [
    "X, Y =ut.get_matrixes()"
   ]
  },
  {
   "cell_type": "code",
   "execution_count": 4,
   "metadata": {},
   "outputs": [],
   "source": [
    "def select_features(modelo, n_features, fwd, fltg):\n",
    "    sfs = SFS(modelo, \n",
    "           k_features=n_features, \n",
    "           forward=fwd,\n",
    "           floating=fltg,\n",
    "           verbose=2,\n",
    "           scoring='accuracy',\n",
    "           cv=0,\n",
    "           n_jobs=-1,\n",
    "           pre_dispatch=10)\n",
    "    \n",
    "    return sfs"
   ]
  },
  {
   "cell_type": "code",
   "execution_count": 13,
   "metadata": {},
   "outputs": [],
   "source": [
    "def trainSFS(n_features,clf):\n",
    "    \n",
    "    forward = True\n",
    "    floating = False\n",
    "   \n",
    "        \n",
    "        \n",
    "    tiempo_i = time.time()\n",
    "    \n",
    "    #Implemetamos la metodología de validación \n",
    "\n",
    "    Folds = 4\n",
    "    EficienciaTrain = []\n",
    "    EficienciaVal = []\n",
    "    f1 = [] \n",
    "    gmean =[]\n",
    "    skf = StratifiedKFold(n_splits=Folds)\n",
    "    j = 0\n",
    "    X_train_d, X_test_d, y_train_d, y_test_d = train_test_split(X, Y, random_state=0, stratify=Y, shuffle=True)\n",
    "    for train, test in skf.split(X_train_d,y_train_d):\n",
    "        \n",
    "\n",
    "        X_train, X_test = X[train], X[train]\n",
    "        y_train, y_test = Y[train], Y[train]  \n",
    "        #Aquí se entrena y se valida el modelo haciendo selección de características con diferentes estrategias\n",
    "\n",
    "        #Complete el código llamando el método select_features con los parámetros correspondientes para responder el\n",
    "        #Ejercicio 3.1\n",
    "        sf = select_features(clf, n_features, forward, floating)\n",
    "\n",
    "        #Complete el código para entrenar el modelo con las características seleccionadas. Tenga en cuenta\n",
    "        #la metodología de validación aplicada para que pase las muestras de entrenamiento correctamente.\n",
    "        print(\"iteracion: \")\n",
    "        sf = sf.fit(X_train, y_train)\n",
    "\n",
    "        Errores[j] = 1-sf.k_score_\n",
    "        j+=1\n",
    "    return  str(np.mean(Errores)), str(np.std(Errores)), str(sf.k_score_*100), str(time.time()-tiempo_i),sf.k_feature_idx_"
   ]
  },
  {
   "cell_type": "code",
   "execution_count": 14,
   "metadata": {},
   "outputs": [],
   "source": [
    "def classification_error(y_est, y_real):\n",
    "    err = 0\n",
    "    for y_e, y_r in zip(y_est, y_real):\n",
    "\n",
    "        if y_e != y_r:\n",
    "            err += 1\n",
    "\n",
    "    return err/np.size(y_est)"
   ]
  },
  {
   "cell_type": "code",
   "execution_count": 15,
   "metadata": {},
   "outputs": [],
   "source": [
    "def train(clf):\n",
    "    #Para calcular el costo computacional\n",
    "    tiempo_i = time.time()\n",
    "\n",
    "    #Implemetamos la metodología de validación\n",
    "\n",
    "    j = 0\n",
    "    Folds = 4\n",
    "    Errores = np.ones(Folds)\n",
    "    skf = StratifiedKFold(n_splits=Folds)\n",
    "\n",
    "    for train, test in skf.split(X,Y):\n",
    "\n",
    "        Xtrain, Ytrain, Xtest, Ytest = ut.get_training_test(X=X, Y=Y, train=train, test=test)\n",
    "\n",
    "        #Aquí se entran y se valida el modelo sin hacer selección de características\n",
    "\n",
    "        ######\n",
    "\n",
    "        # Entrenamiento el modelo.\n",
    "        model = clf.fit(Xtrain,Ytrain)\n",
    "\n",
    "        # Validación del modelo\n",
    "        ypred = model.predict(Xtest)\n",
    "\n",
    "        #######\n",
    "\n",
    "        Errores[j] = classification_error(ypred, Ytest)\n",
    "        j+=1\n",
    "    \n",
    "    m_errores = np.mean(Errores)\n",
    "    ic_errores = np.std(Errores)\n",
    "    eficiencia = (1 - np.mean(Errores))*100\n",
    "    tEjec = time.time()-tiempo_i\n",
    "                        \n",
    "    print('finalizado clf sin selección',str(m_errores), str(ic_errores), str(eficiencia), str(tEjec))\n",
    "    return  m_errores, str(np.std(Errores)), str((1 - np.mean(Errores))*100), str(time.time()-tiempo_i)"
   ]
  },
  {
   "cell_type": "code",
   "execution_count": 16,
   "metadata": {},
   "outputs": [
    {
     "name": "stdout",
     "output_type": "stream",
     "text": [
      "finalizado clf sin selección 0.07351335412068341 0.032987519011468305 92.64866458793166 17.172613859176636\n",
      "entrenando:  MLP + SFS 5.0\n",
      "[[5.55555556e-01 5.55555556e-01 3.84615385e-02 ... 6.23853211e-01\n",
      "  5.96330275e-01 0.00000000e+00]\n",
      " [5.55555556e-01 5.55555556e-01 3.84615385e-02 ... 6.23853211e-01\n",
      "  5.96330275e-01 0.00000000e+00]\n",
      " [5.55555556e-01 5.55555556e-01 7.69230769e-02 ... 6.14678899e-01\n",
      "  5.96330275e-01 0.00000000e+00]\n",
      " ...\n",
      " [5.00000000e-01 5.00000000e-01 0.00000000e+00 ... 2.35102222e-01\n",
      "  2.86718205e-01 1.76596910e-01]\n",
      " [4.43223683e-01 4.43223683e-01 0.00000000e+00 ... 4.32402223e-01\n",
      "  3.96007365e-01 8.28061990e-02]\n",
      " [3.39836646e-01 3.39836646e-01 0.00000000e+00 ... 4.89138174e-01\n",
      "  4.61615238e-01 1.30549769e-04]] [1. 1. 1. ... 3. 3. 3.]\n"
     ]
    },
    {
     "ename": "AttributeError",
     "evalue": "k_features must be a positive integer, tuple, or string",
     "output_type": "error",
     "traceback": [
      "\u001b[0;31m---------------------------------------------------------------------------\u001b[0m",
      "\u001b[0;31mAttributeError\u001b[0m                            Traceback (most recent call last)",
      "\u001b[0;32m<ipython-input-16-d7cabfea1d05>\u001b[0m in \u001b[0;36m<module>\u001b[0;34m\u001b[0m\n\u001b[1;32m     19\u001b[0m     \u001b[0;32melse\u001b[0m\u001b[0;34m:\u001b[0m\u001b[0;34m\u001b[0m\u001b[0;34m\u001b[0m\u001b[0m\n\u001b[1;32m     20\u001b[0m         \u001b[0mprint\u001b[0m\u001b[0;34m(\u001b[0m\u001b[0;34m'entrenando: '\u001b[0m\u001b[0;34m,\u001b[0m\u001b[0me\u001b[0m\u001b[0;34m,\u001b[0m\u001b[0mi\u001b[0m\u001b[0;34m)\u001b[0m\u001b[0;34m\u001b[0m\u001b[0;34m\u001b[0m\u001b[0m\n\u001b[0;32m---> 21\u001b[0;31m         \u001b[0merrorVal\u001b[0m\u001b[0;34m,\u001b[0m \u001b[0mic\u001b[0m\u001b[0;34m,\u001b[0m \u001b[0meficiencia\u001b[0m\u001b[0;34m,\u001b[0m \u001b[0mtEjec\u001b[0m\u001b[0;34m,\u001b[0m\u001b[0mcar\u001b[0m \u001b[0;34m=\u001b[0m \u001b[0mtrainSFS\u001b[0m\u001b[0;34m(\u001b[0m\u001b[0mi\u001b[0m\u001b[0;34m,\u001b[0m \u001b[0mmodel\u001b[0m\u001b[0;34m)\u001b[0m\u001b[0;34m\u001b[0m\u001b[0;34m\u001b[0m\u001b[0m\n\u001b[0m\u001b[1;32m     22\u001b[0m         \u001b[0merrorVal_\u001b[0m\u001b[0;34m.\u001b[0m\u001b[0mappend\u001b[0m\u001b[0;34m(\u001b[0m\u001b[0merrorVal\u001b[0m\u001b[0;34m)\u001b[0m\u001b[0;34m\u001b[0m\u001b[0;34m\u001b[0m\u001b[0m\n\u001b[1;32m     23\u001b[0m         \u001b[0mic_\u001b[0m\u001b[0;34m.\u001b[0m\u001b[0mappend\u001b[0m\u001b[0;34m(\u001b[0m\u001b[0mic\u001b[0m\u001b[0;34m)\u001b[0m\u001b[0;34m\u001b[0m\u001b[0;34m\u001b[0m\u001b[0m\n",
      "\u001b[0;32m<ipython-input-13-ee2c8836b1e0>\u001b[0m in \u001b[0;36mtrainSFS\u001b[0;34m(n_features, clf)\u001b[0m\n\u001b[1;32m     31\u001b[0m         \u001b[0;31m#la metodología de validación aplicada para que pase las muestras de entrenamiento correctamente.\u001b[0m\u001b[0;34m\u001b[0m\u001b[0;34m\u001b[0m\u001b[0;34m\u001b[0m\u001b[0m\n\u001b[1;32m     32\u001b[0m         \u001b[0mprint\u001b[0m\u001b[0;34m(\u001b[0m\u001b[0mX_train\u001b[0m\u001b[0;34m,\u001b[0m \u001b[0my_train\u001b[0m\u001b[0;34m)\u001b[0m\u001b[0;34m\u001b[0m\u001b[0;34m\u001b[0m\u001b[0m\n\u001b[0;32m---> 33\u001b[0;31m         \u001b[0msf\u001b[0m \u001b[0;34m=\u001b[0m \u001b[0msf\u001b[0m\u001b[0;34m.\u001b[0m\u001b[0mfit\u001b[0m\u001b[0;34m(\u001b[0m\u001b[0mX_train\u001b[0m\u001b[0;34m,\u001b[0m \u001b[0my_train\u001b[0m\u001b[0;34m)\u001b[0m\u001b[0;34m\u001b[0m\u001b[0;34m\u001b[0m\u001b[0m\n\u001b[0m\u001b[1;32m     34\u001b[0m \u001b[0;34m\u001b[0m\u001b[0m\n\u001b[1;32m     35\u001b[0m         \u001b[0mErrores\u001b[0m\u001b[0;34m[\u001b[0m\u001b[0mj\u001b[0m\u001b[0;34m]\u001b[0m \u001b[0;34m=\u001b[0m \u001b[0;36m1\u001b[0m\u001b[0;34m-\u001b[0m\u001b[0msf\u001b[0m\u001b[0;34m.\u001b[0m\u001b[0mk_score_\u001b[0m\u001b[0;34m\u001b[0m\u001b[0;34m\u001b[0m\u001b[0m\n",
      "\u001b[0;32m~/simulation/simulation/lib/python3.8/site-packages/mlxtend/feature_selection/sequential_feature_selector.py\u001b[0m in \u001b[0;36mfit\u001b[0;34m(self, X, y, custom_feature_names, groups, **fit_params)\u001b[0m\n\u001b[1;32m    340\u001b[0m                 \u001b[0;32mnot\u001b[0m \u001b[0misinstance\u001b[0m\u001b[0;34m(\u001b[0m\u001b[0mself\u001b[0m\u001b[0;34m.\u001b[0m\u001b[0mk_features\u001b[0m\u001b[0;34m,\u001b[0m \u001b[0mtuple\u001b[0m\u001b[0;34m)\u001b[0m\u001b[0;31m\\\u001b[0m\u001b[0;34m\u001b[0m\u001b[0;34m\u001b[0m\u001b[0m\n\u001b[1;32m    341\u001b[0m                 \u001b[0;32mand\u001b[0m \u001b[0;32mnot\u001b[0m \u001b[0misinstance\u001b[0m\u001b[0;34m(\u001b[0m\u001b[0mself\u001b[0m\u001b[0;34m.\u001b[0m\u001b[0mk_features\u001b[0m\u001b[0;34m,\u001b[0m \u001b[0mstr\u001b[0m\u001b[0;34m)\u001b[0m\u001b[0;34m:\u001b[0m\u001b[0;34m\u001b[0m\u001b[0;34m\u001b[0m\u001b[0m\n\u001b[0;32m--> 342\u001b[0;31m             raise AttributeError('k_features must be a positive integer'\n\u001b[0m\u001b[1;32m    343\u001b[0m                                  ', tuple, or string')\n\u001b[1;32m    344\u001b[0m \u001b[0;34m\u001b[0m\u001b[0m\n",
      "\u001b[0;31mAttributeError\u001b[0m: k_features must be a positive integer, tuple, or string"
     ]
    }
   ],
   "source": [
    "df_types = pd.DataFrame({\n",
    "    'Tecnica' : pd.Series(['MLP sin Selección','MLP + SFS','MLP + SFS','MLP + SFS','MLP + SFS','MLP + SFS']),\n",
    "    '# de características seleccionadas' : pd.Series([3, 5, 10,15,20]),\n",
    "   })\n",
    "ic_ = []\n",
    "tEjec_ = []\n",
    "errorVal_ = []\n",
    "eficiencia_ = []\n",
    "caracteristicas=[]\n",
    "model = OneVsRestClassifier(MLPClassifier(hidden_layer_sizes = (20, 20), activation = 'relu', max_iter=500), n_jobs=-1)\n",
    "for e, i in zip(df_types['Tecnica'], df_types['# de características seleccionadas']):\n",
    "    \n",
    "    if(e == \"MLP sin Selección\"):\n",
    "        errorVal, ic, eficiencia, tEjec = train(model)\n",
    "        errorVal_.append(errorVal)\n",
    "        ic_.append(ic)\n",
    "        tEjec_.append(tEjec+\" s\")\n",
    "        eficiencia_.append(eficiencia)\n",
    "    else:\n",
    "        print('entrenando: ',e,i)\n",
    "        errorVal, ic, eficiencia, tEjec,car = trainSFS(i, model)\n",
    "        errorVal_.append(errorVal)\n",
    "        ic_.append(ic)\n",
    "        tEjec_.append(tEjec+\" s\")\n",
    "        eficiencia_.append(eficiencia)\n",
    "        caracteristicas.append(car)\n",
    "\n"
   ]
  },
  {
   "cell_type": "code",
   "execution_count": null,
   "metadata": {},
   "outputs": [],
   "source": []
  }
 ],
 "metadata": {
  "kernelspec": {
   "display_name": "Python 3",
   "language": "python",
   "name": "python3"
  },
  "language_info": {
   "codemirror_mode": {
    "name": "ipython",
    "version": 3
   },
   "file_extension": ".py",
   "mimetype": "text/x-python",
   "name": "python",
   "nbconvert_exporter": "python",
   "pygments_lexer": "ipython3",
   "version": "3.8.5"
  }
 },
 "nbformat": 4,
 "nbformat_minor": 4
}
