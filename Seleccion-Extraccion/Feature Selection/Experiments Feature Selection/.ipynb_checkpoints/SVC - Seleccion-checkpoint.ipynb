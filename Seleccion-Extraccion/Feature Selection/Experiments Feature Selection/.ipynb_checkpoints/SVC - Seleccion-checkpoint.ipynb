{
 "cells": [
  {
   "cell_type": "code",
   "execution_count": 1,
   "metadata": {},
   "outputs": [],
   "source": [
    "from __future__ import division\n",
    "import numpy as np\n",
    "import scipy as sc\n",
    "import matplotlib.pyplot as plt\n",
    "from scipy import stats\n",
    "%matplotlib inline\n",
    "import pandas as pd\n",
    "import math\n",
    "from numpy import random\n",
    "from sklearn.svm import SVC\n",
    "from sklearn.model_selection import StratifiedKFold\n",
    "from sklearn.metrics import plot_confusion_matrix\n",
    "import sys; sys.path.append('./')\n",
    "from utilssln import Utils2"
   ]
  },
  {
   "cell_type": "code",
   "execution_count": 2,
   "metadata": {},
   "outputs": [],
   "source": [
    "ut = Utils2()"
   ]
  },
  {
   "cell_type": "code",
   "execution_count": 3,
   "metadata": {},
   "outputs": [],
   "source": [
    "dataset_rfe = '../../../data/CTGsmtRFE.csv'\n",
    "X, Y = ut.get_matrixes(dataset_rfe)"
   ]
  },
  {
   "cell_type": "code",
   "execution_count": 4,
   "metadata": {},
   "outputs": [],
   "source": [
    "def train_svm(kernel, C, gamma):\n",
    "    Folds = 4\n",
    "    random.seed(19680801)\n",
    "    EficienciaTrain = []\n",
    "    EficienciaVal = []\n",
    "    skf = StratifiedKFold(n_splits=Folds)\n",
    "    porc_vectores = []\n",
    "    f1 = []\n",
    "    gmean = []\n",
    "    models = []\n",
    "    for train, test in skf.split(X, Y):\n",
    "        Xtrain, Ytrain, Xtest, Ytest = ut.get_training_test(X, Y, train, test)\n",
    "        #Haga el llamado a la función para crear y entrenar el modelo usando los datos de entrenamiento\n",
    "        model = SVC(C=C,kernel=kernel, gamma=gamma, probability=True)\n",
    "        model.fit(Xtrain, Ytrain)\n",
    "        models.append(model)\n",
    "        #Validación\n",
    "        f1_score_current, gmean_current, eficiencia_train_current, eficiencia_test_current = ut.get_metrics(model=model, X_train=Xtrain, X_test=Xtest, y_train=Ytrain, Ytest=Ytest)\n",
    "        gmean.append(gmean_current)\n",
    "        f1.append(f1_score_current)\n",
    "        EficienciaTrain.append(eficiencia_train_current)\n",
    "        EficienciaVal.append(eficiencia_test_current)\n",
    "    \n",
    "    f1_m = np.mean(f1)\n",
    "    f1_ic = np.std(f1)\n",
    "    gmean = np.mean(gmean)\n",
    "    gmean_ic = np.std(gmean)\n",
    "    efi_train = np.mean(EficienciaTrain)\n",
    "    efi_train_ic = np.std(EficienciaTrain)\n",
    "    efi_test = np.mean(EficienciaVal)\n",
    "    efi_test_ic = np.std(EficienciaVal)\n",
    "        \n",
    "    print(f\"Finalizado: {kernel} C: {C} gamma: {gamma}\")\n",
    "    \n",
    "    return f1_m, f1_ic, gmean, gmean_ic, efi_train, efi_train_ic, efi_test, efi_test_ic"
   ]
  },
  {
   "cell_type": "code",
   "execution_count": null,
   "metadata": {},
   "outputs": [
    {
     "name": "stdout",
     "output_type": "stream",
     "text": [
      "Finalizado: linear C: 0.001 gamma: auto\n",
      "Finalizado: linear C: 0.01 gamma: auto\n",
      "Finalizado: linear C: 0.1 gamma: auto\n",
      "Finalizado: linear C: 1.0 gamma: auto\n",
      "Finalizado: linear C: 10.0 gamma: auto\n",
      "Finalizado: linear C: 100.0 gamma: auto\n",
      "Finalizado: rbf C: 0.001 gamma: 0.01\n",
      "Finalizado: rbf C: 0.001 gamma: 0.1\n",
      "Finalizado: rbf C: 0.001 gamma: 1.0\n",
      "Finalizado: rbf C: 0.01 gamma: 0.01\n",
      "Finalizado: rbf C: 0.01 gamma: 0.1\n",
      "Finalizado: rbf C: 0.01 gamma: 1.0\n",
      "Finalizado: rbf C: 0.1 gamma: 0.01\n",
      "Finalizado: rbf C: 0.1 gamma: 0.1\n",
      "Finalizado: rbf C: 0.1 gamma: 1.0\n",
      "Finalizado: rbf C: 1.0 gamma: 0.01\n",
      "Finalizado: rbf C: 1.0 gamma: 0.1\n",
      "Finalizado: rbf C: 1.0 gamma: 1.0\n"
     ]
    }
   ],
   "source": [
    "import qgrid\n",
    "randn = np.random.randn\n",
    "df_types = pd.DataFrame({\n",
    "    'Kernel' : pd.Series(['lineal','lineal','lineal','lineal','lineal','lineal','rbf','rbf','rbf','rbf','rbf','rbf','rbf','rbf','rbf','rbf','rbf','rbf','rbf','rbf','rbf','rbf','rbf','rbf']),\n",
    "    'C' : pd.Series([0.001,0.01,0.1,1,10,100,0.001,0.001,0.001,0.01,0.01,0.01,0.1,0.1,0.1,1,1,1,10,10,10,100,100,100]),\n",
    "    'gamma' : pd.Series([0,0,0,0,0,0,0.01,0.1,1,0.01,0.1,1,0.01,0.1,1,0.01,0.1,1,0.01,0.1,1,0.01,0.1,1])})\n",
    "\n",
    "f1 = []\n",
    "stdf1 = []\n",
    "gmean =[]\n",
    "stdgmean = []\n",
    "efitrain = []\n",
    "eftrainstd = []\n",
    "efitest = []\n",
    "efiteststd = []\n",
    "for e, i, j in zip(df_types['Kernel'], df_types['C'], df_types['gamma']):\n",
    "    if(e == 'lineal'):\n",
    "        f1_m, f1_ic, gmean_, gmean_ic, efi_train_, efi_train_ic, efi_test, efi_test_ic = train_svm(\"linear\", i, \"auto\")\n",
    "    else:\n",
    "        f1_m, f1_ic, gmean_, gmean_ic, efi_train_, efi_train_ic, efi_test, efi_test_ic = train_svm(e, i, j)\n",
    "    f1.append(f1_m)\n",
    "    stdf1.append(f1_ic)\n",
    "    gmean.append(gmean_)\n",
    "    stdgmean.append(gmean_ic)\n",
    "    efitrain.append(efi_train_)\n",
    "    eftrainstd.append(efi_train_ic)\n",
    "    efitest.append(efi_test)\n",
    "    efiteststd.append(efi_train_ic)\n",
    "    \n",
    "df_types.set_index(['Kernel','C','gamma'], inplace=True)\n",
    "df_types[\"f1\"] = f1\n",
    "df_types[\"Intervalo de confianza f1\"] = stdf1\n",
    "df_types[\"G-mean\"] = gmean\n",
    "df_types[\"Intervalo de confianza G-mean\"] = stdgmean\n",
    "df_types[\"Eficiencia train\"] = efitrain\n",
    "df_types[\"Eficiencia train IC\"] = eftrainstd\n",
    "df_types[\"Eficiencia test\"] = efitest\n",
    "df_types[\"Eficiencia test IC\"] = efiteststd"
   ]
  },
  {
   "cell_type": "code",
   "execution_count": null,
   "metadata": {},
   "outputs": [],
   "source": [
    "df_types"
   ]
  },
  {
   "cell_type": "code",
   "execution_count": null,
   "metadata": {},
   "outputs": [],
   "source": [
    "model = SVC(C=100,kernel='rbf', gamma=1, probability=True)\n",
    "X_train, X_test, y_train, y_test = ut.get_train_test()\n",
    "model.fit(X_train,y_train)"
   ]
  }
 ],
 "metadata": {
  "kernelspec": {
   "display_name": "Python 3",
   "language": "python",
   "name": "python3"
  },
  "language_info": {
   "codemirror_mode": {
    "name": "ipython",
    "version": 3
   },
   "file_extension": ".py",
   "mimetype": "text/x-python",
   "name": "python",
   "nbconvert_exporter": "python",
   "pygments_lexer": "ipython3",
   "version": "3.8.5"
  }
 },
 "nbformat": 4,
 "nbformat_minor": 4
}
