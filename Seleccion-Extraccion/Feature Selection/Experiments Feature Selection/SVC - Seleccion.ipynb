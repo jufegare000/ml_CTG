{
 "cells": [
  {
   "cell_type": "code",
   "execution_count": 5,
   "metadata": {},
   "outputs": [],
   "source": [
    "from __future__ import division\n",
    "import numpy as np\n",
    "import scipy as sc\n",
    "import matplotlib.pyplot as plt\n",
    "from scipy import stats\n",
    "%matplotlib inline\n",
    "import pandas as pd\n",
    "import math\n",
    "from numpy import random\n",
    "from sklearn.svm import SVC\n",
    "from sklearn.model_selection import StratifiedKFold\n",
    "from sklearn.metrics import plot_confusion_matrix\n",
    "import sys; sys.path.append('./')\n",
    "from utilssln import Utils2"
   ]
  },
  {
   "cell_type": "code",
   "execution_count": 6,
   "metadata": {},
   "outputs": [],
   "source": [
    "ut = Utils2()"
   ]
  },
  {
   "cell_type": "code",
   "execution_count": 7,
   "metadata": {},
   "outputs": [],
   "source": [
    "dataset_rfe = '../../../data/CTGsmtRFE.csv'\n",
    "X, Y = ut.get_matrixes(dataset_rfe)"
   ]
  },
  {
   "cell_type": "code",
   "execution_count": 8,
   "metadata": {},
   "outputs": [],
   "source": [
    "def train_svm(kernel, C, gamma):\n",
    "    Folds = 4\n",
    "    random.seed(19680801)\n",
    "    EficienciaTrain = []\n",
    "    EficienciaVal = []\n",
    "    skf = StratifiedKFold(n_splits=Folds)\n",
    "    porc_vectores = []\n",
    "    f1 = []\n",
    "    gmean = []\n",
    "    models = []\n",
    "    for train, test in skf.split(X, Y):\n",
    "        Xtrain, Ytrain, Xtest, Ytest = ut.get_training_test(X, Y, train, test)\n",
    "        #Haga el llamado a la función para crear y entrenar el modelo usando los datos de entrenamiento\n",
    "        model = SVC(C=C,kernel=kernel, gamma=gamma, probability=True)\n",
    "        model.fit(Xtrain, Ytrain)\n",
    "        models.append(model)\n",
    "        #Validación\n",
    "        f1_score_current, gmean_current, eficiencia_train_current, eficiencia_test_current = ut.get_metrics(model=model, X_train=Xtrain, X_test=Xtest, y_train=Ytrain, Ytest=Ytest)\n",
    "        gmean.append(gmean_current)\n",
    "        f1.append(f1_score_current)\n",
    "        EficienciaTrain.append(eficiencia_train_current)\n",
    "        EficienciaVal.append(eficiencia_test_current)\n",
    "    \n",
    "    f1_m = np.mean(f1)\n",
    "    f1_ic = np.std(f1)\n",
    "    gmean = np.mean(gmean)\n",
    "    gmean_ic = np.std(gmean)\n",
    "    efi_train = np.mean(EficienciaTrain)\n",
    "    efi_train_ic = np.std(EficienciaTrain)\n",
    "    efi_test = np.mean(EficienciaVal)\n",
    "    efi_test_ic = np.std(EficienciaVal)\n",
    "        \n",
    "    print(f\"Finalizado: {kernel} C: {C} gamma: {gamma}\")\n",
    "    \n",
    "    return f1_m, f1_ic, gmean, gmean_ic, efi_train, efi_train_ic, efi_test, efi_test_ic"
   ]
  },
  {
   "cell_type": "code",
   "execution_count": null,
   "metadata": {},
   "outputs": [],
   "source": []
  }
 ],
 "metadata": {
  "kernelspec": {
   "display_name": "Python 3",
   "language": "python",
   "name": "python3"
  },
  "language_info": {
   "codemirror_mode": {
    "name": "ipython",
    "version": 3
   },
   "file_extension": ".py",
   "mimetype": "text/x-python",
   "name": "python",
   "nbconvert_exporter": "python",
   "pygments_lexer": "ipython3",
   "version": "3.8.5"
  }
 },
 "nbformat": 4,
 "nbformat_minor": 4
}
